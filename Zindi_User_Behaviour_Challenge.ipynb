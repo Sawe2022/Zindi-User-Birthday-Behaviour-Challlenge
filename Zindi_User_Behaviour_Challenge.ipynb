{
  "nbformat": 4,
  "nbformat_minor": 0,
  "metadata": {
    "colab": {
      "name": "Zindi_User_Behaviour_Challenge.ipynb",
      "provenance": [],
      "collapsed_sections": []
    },
    "kernelspec": {
      "name": "python3",
      "display_name": "Python 3"
    },
    "language_info": {
      "name": "python"
    },
    "accelerator": "GPU"
  },
  "cells": [
    {
      "cell_type": "markdown",
      "metadata": {
        "id": "gOK3ptiWNDAd"
      },
      "source": [
        "# Importing important libraries"
      ]
    },
    {
      "cell_type": "code",
      "metadata": {
        "id": "Nm1ZzerC0pKo"
      },
      "source": [
        "import pandas as pd\n",
        "import numpy as np\n",
        "from sklearn.model_selection import train_test_split\n",
        "from sklearn.preprocessing import StandardScaler\n",
        "from sklearn.preprocessing import MinMaxScaler\n",
        "from sklearn.metrics import auc, classification_report, roc_auc_score, accuracy_score\n",
        "from sklearn.linear_model import LogisticRegression"
      ],
      "execution_count": null,
      "outputs": []
    },
    {
      "cell_type": "markdown",
      "metadata": {
        "id": "7SlD16lAK94q"
      },
      "source": [
        "# Loading datasets"
      ]
    },
    {
      "cell_type": "code",
      "metadata": {
        "id": "nV-Gb5bY0vtI",
        "colab": {
          "base_uri": "https://localhost:8080/",
          "height": 359
        },
        "outputId": "97a75011-5caa-4d27-fefd-3dc7492727a5"
      },
      "source": [
        "#loading train data\n",
        "train = pd.read_csv(\"https://raw.githubusercontent.com/RozieH/datasets/main/Train.csv\")\n",
        "train.head(10)"
      ],
      "execution_count": null,
      "outputs": [
        {
          "output_type": "execute_result",
          "data": {
            "text/html": [
              "<div>\n",
              "<style scoped>\n",
              "    .dataframe tbody tr th:only-of-type {\n",
              "        vertical-align: middle;\n",
              "    }\n",
              "\n",
              "    .dataframe tbody tr th {\n",
              "        vertical-align: top;\n",
              "    }\n",
              "\n",
              "    .dataframe thead th {\n",
              "        text-align: right;\n",
              "    }\n",
              "</style>\n",
              "<table border=\"1\" class=\"dataframe\">\n",
              "  <thead>\n",
              "    <tr style=\"text-align: right;\">\n",
              "      <th></th>\n",
              "      <th>User_ID</th>\n",
              "      <th>month</th>\n",
              "      <th>year</th>\n",
              "      <th>CompPart</th>\n",
              "      <th>Comment</th>\n",
              "      <th>Sub</th>\n",
              "      <th>Disc</th>\n",
              "      <th>Target</th>\n",
              "    </tr>\n",
              "  </thead>\n",
              "  <tbody>\n",
              "    <tr>\n",
              "      <th>0</th>\n",
              "      <td>ID_XI7BAR4Y</td>\n",
              "      <td>8</td>\n",
              "      <td>3</td>\n",
              "      <td>0</td>\n",
              "      <td>0</td>\n",
              "      <td>0</td>\n",
              "      <td>0</td>\n",
              "      <td>0</td>\n",
              "    </tr>\n",
              "    <tr>\n",
              "      <th>1</th>\n",
              "      <td>ID_XI7BAR4Y</td>\n",
              "      <td>8</td>\n",
              "      <td>2</td>\n",
              "      <td>0</td>\n",
              "      <td>0</td>\n",
              "      <td>0</td>\n",
              "      <td>0</td>\n",
              "      <td>0</td>\n",
              "    </tr>\n",
              "    <tr>\n",
              "      <th>2</th>\n",
              "      <td>ID_XI7BAR4Y</td>\n",
              "      <td>9</td>\n",
              "      <td>2</td>\n",
              "      <td>0</td>\n",
              "      <td>0</td>\n",
              "      <td>0</td>\n",
              "      <td>0</td>\n",
              "      <td>0</td>\n",
              "    </tr>\n",
              "    <tr>\n",
              "      <th>3</th>\n",
              "      <td>ID_XI7BAR4Y</td>\n",
              "      <td>9</td>\n",
              "      <td>3</td>\n",
              "      <td>0</td>\n",
              "      <td>0</td>\n",
              "      <td>0</td>\n",
              "      <td>0</td>\n",
              "      <td>0</td>\n",
              "    </tr>\n",
              "    <tr>\n",
              "      <th>4</th>\n",
              "      <td>ID_XI7BAR4Y</td>\n",
              "      <td>10</td>\n",
              "      <td>3</td>\n",
              "      <td>0</td>\n",
              "      <td>0</td>\n",
              "      <td>0</td>\n",
              "      <td>0</td>\n",
              "      <td>0</td>\n",
              "    </tr>\n",
              "    <tr>\n",
              "      <th>5</th>\n",
              "      <td>ID_XI7BAR4Y</td>\n",
              "      <td>10</td>\n",
              "      <td>2</td>\n",
              "      <td>0</td>\n",
              "      <td>0</td>\n",
              "      <td>0</td>\n",
              "      <td>0</td>\n",
              "      <td>0</td>\n",
              "    </tr>\n",
              "    <tr>\n",
              "      <th>6</th>\n",
              "      <td>ID_XI7BAR4Y</td>\n",
              "      <td>11</td>\n",
              "      <td>2</td>\n",
              "      <td>1</td>\n",
              "      <td>0</td>\n",
              "      <td>0</td>\n",
              "      <td>0</td>\n",
              "      <td>1</td>\n",
              "    </tr>\n",
              "    <tr>\n",
              "      <th>7</th>\n",
              "      <td>ID_XI7BAR4Y</td>\n",
              "      <td>11</td>\n",
              "      <td>3</td>\n",
              "      <td>0</td>\n",
              "      <td>0</td>\n",
              "      <td>0</td>\n",
              "      <td>0</td>\n",
              "      <td>0</td>\n",
              "    </tr>\n",
              "    <tr>\n",
              "      <th>8</th>\n",
              "      <td>ID_XI7BAR4Y</td>\n",
              "      <td>12</td>\n",
              "      <td>2</td>\n",
              "      <td>0</td>\n",
              "      <td>0</td>\n",
              "      <td>1</td>\n",
              "      <td>0</td>\n",
              "      <td>1</td>\n",
              "    </tr>\n",
              "    <tr>\n",
              "      <th>9</th>\n",
              "      <td>ID_XI7BAR4Y</td>\n",
              "      <td>12</td>\n",
              "      <td>3</td>\n",
              "      <td>0</td>\n",
              "      <td>0</td>\n",
              "      <td>0</td>\n",
              "      <td>0</td>\n",
              "      <td>0</td>\n",
              "    </tr>\n",
              "  </tbody>\n",
              "</table>\n",
              "</div>"
            ],
            "text/plain": [
              "       User_ID  month  year  CompPart  Comment  Sub  Disc  Target\n",
              "0  ID_XI7BAR4Y      8     3         0        0    0     0       0\n",
              "1  ID_XI7BAR4Y      8     2         0        0    0     0       0\n",
              "2  ID_XI7BAR4Y      9     2         0        0    0     0       0\n",
              "3  ID_XI7BAR4Y      9     3         0        0    0     0       0\n",
              "4  ID_XI7BAR4Y     10     3         0        0    0     0       0\n",
              "5  ID_XI7BAR4Y     10     2         0        0    0     0       0\n",
              "6  ID_XI7BAR4Y     11     2         1        0    0     0       1\n",
              "7  ID_XI7BAR4Y     11     3         0        0    0     0       0\n",
              "8  ID_XI7BAR4Y     12     2         0        0    1     0       1\n",
              "9  ID_XI7BAR4Y     12     3         0        0    0     0       0"
            ]
          },
          "metadata": {},
          "execution_count": 60
        }
      ]
    },
    {
      "cell_type": "code",
      "metadata": {
        "id": "KMxGkYF08aXy",
        "colab": {
          "base_uri": "https://localhost:8080/",
          "height": 203
        },
        "outputId": "1cf5e88e-c339-4763-ad6d-b42871bfdad1"
      },
      "source": [
        "#loading testdata\n",
        "test = pd.read_csv(\"https://raw.githubusercontent.com/RozieH/datasets/main/Test.csv\")\n",
        "test.head()"
      ],
      "execution_count": null,
      "outputs": [
        {
          "output_type": "execute_result",
          "data": {
            "text/html": [
              "<div>\n",
              "<style scoped>\n",
              "    .dataframe tbody tr th:only-of-type {\n",
              "        vertical-align: middle;\n",
              "    }\n",
              "\n",
              "    .dataframe tbody tr th {\n",
              "        vertical-align: top;\n",
              "    }\n",
              "\n",
              "    .dataframe thead th {\n",
              "        text-align: right;\n",
              "    }\n",
              "</style>\n",
              "<table border=\"1\" class=\"dataframe\">\n",
              "  <thead>\n",
              "    <tr style=\"text-align: right;\">\n",
              "      <th></th>\n",
              "      <th>User_ID</th>\n",
              "      <th>month</th>\n",
              "      <th>year</th>\n",
              "    </tr>\n",
              "  </thead>\n",
              "  <tbody>\n",
              "    <tr>\n",
              "      <th>0</th>\n",
              "      <td>ID_H1ELY25E</td>\n",
              "      <td>1</td>\n",
              "      <td>4</td>\n",
              "    </tr>\n",
              "    <tr>\n",
              "      <th>1</th>\n",
              "      <td>ID_H1ELY25E</td>\n",
              "      <td>2</td>\n",
              "      <td>4</td>\n",
              "    </tr>\n",
              "    <tr>\n",
              "      <th>2</th>\n",
              "      <td>ID_H1ELY25E</td>\n",
              "      <td>3</td>\n",
              "      <td>4</td>\n",
              "    </tr>\n",
              "    <tr>\n",
              "      <th>3</th>\n",
              "      <td>ID_463Q2BCO</td>\n",
              "      <td>1</td>\n",
              "      <td>4</td>\n",
              "    </tr>\n",
              "    <tr>\n",
              "      <th>4</th>\n",
              "      <td>ID_463Q2BCO</td>\n",
              "      <td>2</td>\n",
              "      <td>4</td>\n",
              "    </tr>\n",
              "  </tbody>\n",
              "</table>\n",
              "</div>"
            ],
            "text/plain": [
              "       User_ID  month  year\n",
              "0  ID_H1ELY25E      1     4\n",
              "1  ID_H1ELY25E      2     4\n",
              "2  ID_H1ELY25E      3     4\n",
              "3  ID_463Q2BCO      1     4\n",
              "4  ID_463Q2BCO      2     4"
            ]
          },
          "metadata": {},
          "execution_count": 61
        }
      ]
    },
    {
      "cell_type": "code",
      "metadata": {
        "id": "qZKkSjRT-HW3",
        "colab": {
          "base_uri": "https://localhost:8080/",
          "height": 203
        },
        "outputId": "21290049-3c52-4785-a856-3a3329f82156"
      },
      "source": [
        "#loading comments data\n",
        "comments = pd.read_csv(\"https://raw.githubusercontent.com/RozieH/datasets/main/Comments.csv\")\n",
        "comments.head() "
      ],
      "execution_count": null,
      "outputs": [
        {
          "output_type": "execute_result",
          "data": {
            "text/html": [
              "<div>\n",
              "<style scoped>\n",
              "    .dataframe tbody tr th:only-of-type {\n",
              "        vertical-align: middle;\n",
              "    }\n",
              "\n",
              "    .dataframe tbody tr th {\n",
              "        vertical-align: top;\n",
              "    }\n",
              "\n",
              "    .dataframe thead th {\n",
              "        text-align: right;\n",
              "    }\n",
              "</style>\n",
              "<table border=\"1\" class=\"dataframe\">\n",
              "  <thead>\n",
              "    <tr style=\"text-align: right;\">\n",
              "      <th></th>\n",
              "      <th>UserID</th>\n",
              "      <th>CommentDate Year</th>\n",
              "      <th>CommentDate Month</th>\n",
              "      <th>CommentDate Day_of_week</th>\n",
              "    </tr>\n",
              "  </thead>\n",
              "  <tbody>\n",
              "    <tr>\n",
              "      <th>0</th>\n",
              "      <td>ID_MVIB05DL</td>\n",
              "      <td>3</td>\n",
              "      <td>1</td>\n",
              "      <td>7</td>\n",
              "    </tr>\n",
              "    <tr>\n",
              "      <th>1</th>\n",
              "      <td>ID_MVIB05DL</td>\n",
              "      <td>3</td>\n",
              "      <td>1</td>\n",
              "      <td>7</td>\n",
              "    </tr>\n",
              "    <tr>\n",
              "      <th>2</th>\n",
              "      <td>ID_KBRFRAR9</td>\n",
              "      <td>3</td>\n",
              "      <td>1</td>\n",
              "      <td>7</td>\n",
              "    </tr>\n",
              "    <tr>\n",
              "      <th>3</th>\n",
              "      <td>ID_UDS6FRR8</td>\n",
              "      <td>3</td>\n",
              "      <td>1</td>\n",
              "      <td>7</td>\n",
              "    </tr>\n",
              "    <tr>\n",
              "      <th>4</th>\n",
              "      <td>ID_UDS6FRR8</td>\n",
              "      <td>3</td>\n",
              "      <td>1</td>\n",
              "      <td>7</td>\n",
              "    </tr>\n",
              "  </tbody>\n",
              "</table>\n",
              "</div>"
            ],
            "text/plain": [
              "        UserID  CommentDate Year  CommentDate Month  CommentDate Day_of_week\n",
              "0  ID_MVIB05DL                 3                  1                        7\n",
              "1  ID_MVIB05DL                 3                  1                        7\n",
              "2  ID_KBRFRAR9                 3                  1                        7\n",
              "3  ID_UDS6FRR8                 3                  1                        7\n",
              "4  ID_UDS6FRR8                 3                  1                        7"
            ]
          },
          "metadata": {},
          "execution_count": 62
        }
      ]
    },
    {
      "cell_type": "code",
      "metadata": {
        "id": "5Dxy-q0h-jCk",
        "colab": {
          "base_uri": "https://localhost:8080/",
          "height": 220
        },
        "outputId": "dea36ad4-6844-4c39-aab9-9a1ca431ec59"
      },
      "source": [
        "#loading CompetitionPartipation data\n",
        "CompetitionPartipation = pd.read_csv(\"https://raw.githubusercontent.com/RozieH/datasets/main/CompetitionPartipation.csv\")\n",
        "\n",
        "df1 = CompetitionPartipation[['UserID','PublicRank','Successful Submission Count']]\n",
        "CompetitionPartipation.head() "
      ],
      "execution_count": null,
      "outputs": [
        {
          "output_type": "execute_result",
          "data": {
            "text/html": [
              "<div>\n",
              "<style scoped>\n",
              "    .dataframe tbody tr th:only-of-type {\n",
              "        vertical-align: middle;\n",
              "    }\n",
              "\n",
              "    .dataframe tbody tr th {\n",
              "        vertical-align: top;\n",
              "    }\n",
              "\n",
              "    .dataframe thead th {\n",
              "        text-align: right;\n",
              "    }\n",
              "</style>\n",
              "<table border=\"1\" class=\"dataframe\">\n",
              "  <thead>\n",
              "    <tr style=\"text-align: right;\">\n",
              "      <th></th>\n",
              "      <th>CompID</th>\n",
              "      <th>UserID</th>\n",
              "      <th>PublicRank</th>\n",
              "      <th>Successful Submission Count</th>\n",
              "      <th>CompPartCreated Year</th>\n",
              "      <th>CompPartCreated Month</th>\n",
              "      <th>CompPartCreated Day_of_week</th>\n",
              "    </tr>\n",
              "  </thead>\n",
              "  <tbody>\n",
              "    <tr>\n",
              "      <th>0</th>\n",
              "      <td>ID_WMUF</td>\n",
              "      <td>ID_UWBBZ9OF</td>\n",
              "      <td>rank 11</td>\n",
              "      <td>count 10</td>\n",
              "      <td>3</td>\n",
              "      <td>1</td>\n",
              "      <td>4</td>\n",
              "    </tr>\n",
              "    <tr>\n",
              "      <th>1</th>\n",
              "      <td>ID_MPSN</td>\n",
              "      <td>ID_UWBBZ9OF</td>\n",
              "      <td>NaN</td>\n",
              "      <td>NaN</td>\n",
              "      <td>3</td>\n",
              "      <td>1</td>\n",
              "      <td>7</td>\n",
              "    </tr>\n",
              "    <tr>\n",
              "      <th>2</th>\n",
              "      <td>ID_WMUF</td>\n",
              "      <td>ID_1N5J2PGO</td>\n",
              "      <td>NaN</td>\n",
              "      <td>count 10</td>\n",
              "      <td>3</td>\n",
              "      <td>1</td>\n",
              "      <td>5</td>\n",
              "    </tr>\n",
              "    <tr>\n",
              "      <th>3</th>\n",
              "      <td>ID_7MLO</td>\n",
              "      <td>ID_1N5J2PGO</td>\n",
              "      <td>NaN</td>\n",
              "      <td>NaN</td>\n",
              "      <td>2</td>\n",
              "      <td>10</td>\n",
              "      <td>5</td>\n",
              "    </tr>\n",
              "    <tr>\n",
              "      <th>4</th>\n",
              "      <td>ID_2KEY</td>\n",
              "      <td>ID_1N5J2PGO</td>\n",
              "      <td>NaN</td>\n",
              "      <td>NaN</td>\n",
              "      <td>2</td>\n",
              "      <td>5</td>\n",
              "      <td>4</td>\n",
              "    </tr>\n",
              "  </tbody>\n",
              "</table>\n",
              "</div>"
            ],
            "text/plain": [
              "    CompID       UserID  ... CompPartCreated Month CompPartCreated Day_of_week\n",
              "0  ID_WMUF  ID_UWBBZ9OF  ...                     1                           4\n",
              "1  ID_MPSN  ID_UWBBZ9OF  ...                     1                           7\n",
              "2  ID_WMUF  ID_1N5J2PGO  ...                     1                           5\n",
              "3  ID_7MLO  ID_1N5J2PGO  ...                    10                           5\n",
              "4  ID_2KEY  ID_1N5J2PGO  ...                     5                           4\n",
              "\n",
              "[5 rows x 7 columns]"
            ]
          },
          "metadata": {},
          "execution_count": 63
        }
      ]
    },
    {
      "cell_type": "code",
      "metadata": {
        "id": "ETgwcp9b-zrp",
        "colab": {
          "base_uri": "https://localhost:8080/",
          "height": 240
        },
        "outputId": "eb711a0f-1f8c-4da8-86c1-20b93dd8bd4c"
      },
      "source": [
        "#loading Competitions data\n",
        "Competitions= pd.read_csv(\"https://raw.githubusercontent.com/RozieH/datasets/main/Competitions.csv\")\n",
        "\n",
        "df2= Competitions[['Kind','Points Reward','SecretCode']]\n",
        "Competitions.head() "
      ],
      "execution_count": null,
      "outputs": [
        {
          "output_type": "execute_result",
          "data": {
            "text/html": [
              "<div>\n",
              "<style scoped>\n",
              "    .dataframe tbody tr th:only-of-type {\n",
              "        vertical-align: middle;\n",
              "    }\n",
              "\n",
              "    .dataframe tbody tr th {\n",
              "        vertical-align: top;\n",
              "    }\n",
              "\n",
              "    .dataframe thead th {\n",
              "        text-align: right;\n",
              "    }\n",
              "</style>\n",
              "<table border=\"1\" class=\"dataframe\">\n",
              "  <thead>\n",
              "    <tr style=\"text-align: right;\">\n",
              "      <th></th>\n",
              "      <th>CompID</th>\n",
              "      <th>Country</th>\n",
              "      <th>FeatureA</th>\n",
              "      <th>FeatureB</th>\n",
              "      <th>FeatureC</th>\n",
              "      <th>Kind</th>\n",
              "      <th>Points Reward</th>\n",
              "      <th>FeatureD</th>\n",
              "      <th>SecretCode</th>\n",
              "      <th>SubmissionLimitPerDay</th>\n",
              "      <th>FeatureE</th>\n",
              "      <th>CompEndTime Year</th>\n",
              "      <th>CompEndTime Month</th>\n",
              "      <th>CompEndTime Day_of_week</th>\n",
              "      <th>CompStartTime Year</th>\n",
              "      <th>CompStartTime Month</th>\n",
              "      <th>CompStartTime Day_of_week</th>\n",
              "    </tr>\n",
              "  </thead>\n",
              "  <tbody>\n",
              "    <tr>\n",
              "      <th>0</th>\n",
              "      <td>ID_WGZ2</td>\n",
              "      <td>ID_HWRH</td>\n",
              "      <td>[1]</td>\n",
              "      <td>[14]</td>\n",
              "      <td>1.0</td>\n",
              "      <td>1</td>\n",
              "      <td>27</td>\n",
              "      <td>1</td>\n",
              "      <td>0</td>\n",
              "      <td>100.0</td>\n",
              "      <td>[1]</td>\n",
              "      <td>1</td>\n",
              "      <td>8.0</td>\n",
              "      <td>7.0</td>\n",
              "      <td>1</td>\n",
              "      <td>6</td>\n",
              "      <td>5</td>\n",
              "    </tr>\n",
              "    <tr>\n",
              "      <th>1</th>\n",
              "      <td>ID_G370</td>\n",
              "      <td>NaN</td>\n",
              "      <td>[1]</td>\n",
              "      <td>[]</td>\n",
              "      <td>2.0</td>\n",
              "      <td>1</td>\n",
              "      <td>52</td>\n",
              "      <td>2</td>\n",
              "      <td>0</td>\n",
              "      <td>10.0</td>\n",
              "      <td>[1]</td>\n",
              "      <td>4</td>\n",
              "      <td>1.0</td>\n",
              "      <td>6.0</td>\n",
              "      <td>3</td>\n",
              "      <td>12</td>\n",
              "      <td>7</td>\n",
              "    </tr>\n",
              "    <tr>\n",
              "      <th>2</th>\n",
              "      <td>ID_R5HL</td>\n",
              "      <td>NaN</td>\n",
              "      <td>[1]</td>\n",
              "      <td>[]</td>\n",
              "      <td>3.0</td>\n",
              "      <td>1</td>\n",
              "      <td>126</td>\n",
              "      <td>2</td>\n",
              "      <td>0</td>\n",
              "      <td>10.0</td>\n",
              "      <td>[1]</td>\n",
              "      <td>4</td>\n",
              "      <td>1.0</td>\n",
              "      <td>6.0</td>\n",
              "      <td>3</td>\n",
              "      <td>10</td>\n",
              "      <td>4</td>\n",
              "    </tr>\n",
              "    <tr>\n",
              "      <th>3</th>\n",
              "      <td>ID_Y6XI</td>\n",
              "      <td>ID_ARVG</td>\n",
              "      <td>[1]</td>\n",
              "      <td>[]</td>\n",
              "      <td>4.0</td>\n",
              "      <td>1</td>\n",
              "      <td>52</td>\n",
              "      <td>2</td>\n",
              "      <td>0</td>\n",
              "      <td>10.0</td>\n",
              "      <td>[1]</td>\n",
              "      <td>4</td>\n",
              "      <td>1.0</td>\n",
              "      <td>6.0</td>\n",
              "      <td>3</td>\n",
              "      <td>11</td>\n",
              "      <td>4</td>\n",
              "    </tr>\n",
              "    <tr>\n",
              "      <th>4</th>\n",
              "      <td>ID_8PEN</td>\n",
              "      <td>ID_I1L9</td>\n",
              "      <td>[1]</td>\n",
              "      <td>[]</td>\n",
              "      <td>5.0</td>\n",
              "      <td>0</td>\n",
              "      <td>2</td>\n",
              "      <td>2</td>\n",
              "      <td>0</td>\n",
              "      <td>200.0</td>\n",
              "      <td>[1]</td>\n",
              "      <td>2</td>\n",
              "      <td>11.0</td>\n",
              "      <td>6.0</td>\n",
              "      <td>2</td>\n",
              "      <td>11</td>\n",
              "      <td>4</td>\n",
              "    </tr>\n",
              "  </tbody>\n",
              "</table>\n",
              "</div>"
            ],
            "text/plain": [
              "    CompID  Country  ... CompStartTime Month CompStartTime Day_of_week\n",
              "0  ID_WGZ2  ID_HWRH  ...                   6                         5\n",
              "1  ID_G370      NaN  ...                  12                         7\n",
              "2  ID_R5HL      NaN  ...                  10                         4\n",
              "3  ID_Y6XI  ID_ARVG  ...                  11                         4\n",
              "4  ID_8PEN  ID_I1L9  ...                  11                         4\n",
              "\n",
              "[5 rows x 17 columns]"
            ]
          },
          "metadata": {},
          "execution_count": 64
        }
      ]
    },
    {
      "cell_type": "code",
      "metadata": {
        "id": "IO1MsJKT_PaO",
        "colab": {
          "base_uri": "https://localhost:8080/",
          "height": 203
        },
        "outputId": "5f2a1a19-c7f7-42a3-b2ab-baf0bcf07eda"
      },
      "source": [
        "#loading Discussions data\n",
        "Discussions= pd.read_csv(\"https://raw.githubusercontent.com/RozieH/datasets/main/Discussions.csv\")\n",
        "Discussions.head() "
      ],
      "execution_count": null,
      "outputs": [
        {
          "output_type": "execute_result",
          "data": {
            "text/html": [
              "<div>\n",
              "<style scoped>\n",
              "    .dataframe tbody tr th:only-of-type {\n",
              "        vertical-align: middle;\n",
              "    }\n",
              "\n",
              "    .dataframe tbody tr th {\n",
              "        vertical-align: top;\n",
              "    }\n",
              "\n",
              "    .dataframe thead th {\n",
              "        text-align: right;\n",
              "    }\n",
              "</style>\n",
              "<table border=\"1\" class=\"dataframe\">\n",
              "  <thead>\n",
              "    <tr style=\"text-align: right;\">\n",
              "      <th></th>\n",
              "      <th>FeatureF</th>\n",
              "      <th>DiscDate Year</th>\n",
              "      <th>DiscDate Month</th>\n",
              "      <th>DiscDate Day_of_week</th>\n",
              "      <th>DiscID</th>\n",
              "      <th>UserID</th>\n",
              "    </tr>\n",
              "  </thead>\n",
              "  <tbody>\n",
              "    <tr>\n",
              "      <th>0</th>\n",
              "      <td>1</td>\n",
              "      <td>3</td>\n",
              "      <td>10</td>\n",
              "      <td>1</td>\n",
              "      <td>ID_Z77ETQ</td>\n",
              "      <td>ID_F2757IAI</td>\n",
              "    </tr>\n",
              "    <tr>\n",
              "      <th>1</th>\n",
              "      <td>0</td>\n",
              "      <td>3</td>\n",
              "      <td>12</td>\n",
              "      <td>3</td>\n",
              "      <td>ID_E47JKY</td>\n",
              "      <td>ID_F2757IAI</td>\n",
              "    </tr>\n",
              "    <tr>\n",
              "      <th>2</th>\n",
              "      <td>1</td>\n",
              "      <td>3</td>\n",
              "      <td>1</td>\n",
              "      <td>3</td>\n",
              "      <td>ID_CB4Y0N</td>\n",
              "      <td>ID_F2757IAI</td>\n",
              "    </tr>\n",
              "    <tr>\n",
              "      <th>3</th>\n",
              "      <td>0</td>\n",
              "      <td>3</td>\n",
              "      <td>9</td>\n",
              "      <td>7</td>\n",
              "      <td>ID_BNIHCF</td>\n",
              "      <td>ID_F2757IAI</td>\n",
              "    </tr>\n",
              "    <tr>\n",
              "      <th>4</th>\n",
              "      <td>1</td>\n",
              "      <td>3</td>\n",
              "      <td>5</td>\n",
              "      <td>7</td>\n",
              "      <td>ID_MLPYCO</td>\n",
              "      <td>ID_F2757IAI</td>\n",
              "    </tr>\n",
              "  </tbody>\n",
              "</table>\n",
              "</div>"
            ],
            "text/plain": [
              "   FeatureF  DiscDate Year  ...     DiscID       UserID\n",
              "0         1              3  ...  ID_Z77ETQ  ID_F2757IAI\n",
              "1         0              3  ...  ID_E47JKY  ID_F2757IAI\n",
              "2         1              3  ...  ID_CB4Y0N  ID_F2757IAI\n",
              "3         0              3  ...  ID_BNIHCF  ID_F2757IAI\n",
              "4         1              3  ...  ID_MLPYCO  ID_F2757IAI\n",
              "\n",
              "[5 rows x 6 columns]"
            ]
          },
          "metadata": {},
          "execution_count": 65
        }
      ]
    },
    {
      "cell_type": "code",
      "metadata": {
        "id": "1BoDdGTm_vxC",
        "colab": {
          "base_uri": "https://localhost:8080/",
          "height": 203
        },
        "outputId": "b28048b4-97be-4c8e-e761-349e2dd7b0df"
      },
      "source": [
        "#loading Submissions data\n",
        "Submissions= pd.read_csv(\"https://raw.githubusercontent.com/RozieH/datasets/main/Submissions.csv\")\n",
        "Submissions.head() "
      ],
      "execution_count": null,
      "outputs": [
        {
          "output_type": "execute_result",
          "data": {
            "text/html": [
              "<div>\n",
              "<style scoped>\n",
              "    .dataframe tbody tr th:only-of-type {\n",
              "        vertical-align: middle;\n",
              "    }\n",
              "\n",
              "    .dataframe tbody tr th {\n",
              "        vertical-align: top;\n",
              "    }\n",
              "\n",
              "    .dataframe thead th {\n",
              "        text-align: right;\n",
              "    }\n",
              "</style>\n",
              "<table border=\"1\" class=\"dataframe\">\n",
              "  <thead>\n",
              "    <tr style=\"text-align: right;\">\n",
              "      <th></th>\n",
              "      <th>UserID</th>\n",
              "      <th>FeatureG</th>\n",
              "      <th>CompID</th>\n",
              "      <th>SubDate Year</th>\n",
              "      <th>SubDate Month</th>\n",
              "      <th>SubDate Day_of_week</th>\n",
              "    </tr>\n",
              "  </thead>\n",
              "  <tbody>\n",
              "    <tr>\n",
              "      <th>0</th>\n",
              "      <td>ID_8JP75F20</td>\n",
              "      <td>1</td>\n",
              "      <td>ID_GFDE</td>\n",
              "      <td>3</td>\n",
              "      <td>3</td>\n",
              "      <td>2</td>\n",
              "    </tr>\n",
              "    <tr>\n",
              "      <th>1</th>\n",
              "      <td>ID_8JP75F20</td>\n",
              "      <td>1</td>\n",
              "      <td>ID_GFDE</td>\n",
              "      <td>3</td>\n",
              "      <td>3</td>\n",
              "      <td>2</td>\n",
              "    </tr>\n",
              "    <tr>\n",
              "      <th>2</th>\n",
              "      <td>ID_8JP75F20</td>\n",
              "      <td>1</td>\n",
              "      <td>ID_GFDE</td>\n",
              "      <td>3</td>\n",
              "      <td>3</td>\n",
              "      <td>4</td>\n",
              "    </tr>\n",
              "    <tr>\n",
              "      <th>3</th>\n",
              "      <td>ID_8JP75F20</td>\n",
              "      <td>1</td>\n",
              "      <td>ID_GFDE</td>\n",
              "      <td>3</td>\n",
              "      <td>3</td>\n",
              "      <td>2</td>\n",
              "    </tr>\n",
              "    <tr>\n",
              "      <th>4</th>\n",
              "      <td>ID_8JP75F20</td>\n",
              "      <td>1</td>\n",
              "      <td>ID_GFDE</td>\n",
              "      <td>3</td>\n",
              "      <td>3</td>\n",
              "      <td>4</td>\n",
              "    </tr>\n",
              "  </tbody>\n",
              "</table>\n",
              "</div>"
            ],
            "text/plain": [
              "        UserID  FeatureG  ... SubDate Month  SubDate Day_of_week\n",
              "0  ID_8JP75F20         1  ...             3                    2\n",
              "1  ID_8JP75F20         1  ...             3                    2\n",
              "2  ID_8JP75F20         1  ...             3                    4\n",
              "3  ID_8JP75F20         1  ...             3                    2\n",
              "4  ID_8JP75F20         1  ...             3                    4\n",
              "\n",
              "[5 rows x 6 columns]"
            ]
          },
          "metadata": {},
          "execution_count": 66
        }
      ]
    },
    {
      "cell_type": "code",
      "metadata": {
        "id": "MPTBWqPRAK85",
        "colab": {
          "base_uri": "https://localhost:8080/",
          "height": 203
        },
        "outputId": "f686642e-fb3b-4708-e3a4-ec72af319f28"
      },
      "source": [
        "#loading users data\n",
        "Users = pd.read_csv(\"https://raw.githubusercontent.com/RozieH/datasets/main/Users.csv\")\n",
        "\n",
        "df3=Users[['UserID', 'UserDate Year','UserDate Month']]\n",
        "Users.head()"
      ],
      "execution_count": null,
      "outputs": [
        {
          "output_type": "execute_result",
          "data": {
            "text/html": [
              "<div>\n",
              "<style scoped>\n",
              "    .dataframe tbody tr th:only-of-type {\n",
              "        vertical-align: middle;\n",
              "    }\n",
              "\n",
              "    .dataframe tbody tr th {\n",
              "        vertical-align: top;\n",
              "    }\n",
              "\n",
              "    .dataframe thead th {\n",
              "        text-align: right;\n",
              "    }\n",
              "</style>\n",
              "<table border=\"1\" class=\"dataframe\">\n",
              "  <thead>\n",
              "    <tr style=\"text-align: right;\">\n",
              "      <th></th>\n",
              "      <th>UserID</th>\n",
              "      <th>FeatureX</th>\n",
              "      <th>Country</th>\n",
              "      <th>FeatureY</th>\n",
              "      <th>Points</th>\n",
              "      <th>UserDate Year</th>\n",
              "      <th>UserDate Month</th>\n",
              "      <th>UserDate Day_of_week</th>\n",
              "    </tr>\n",
              "  </thead>\n",
              "  <tbody>\n",
              "    <tr>\n",
              "      <th>0</th>\n",
              "      <td>ID_N5LTBAPU</td>\n",
              "      <td>0</td>\n",
              "      <td>ID_DMRM</td>\n",
              "      <td>1</td>\n",
              "      <td>group 3</td>\n",
              "      <td>2</td>\n",
              "      <td>4</td>\n",
              "      <td>4</td>\n",
              "    </tr>\n",
              "    <tr>\n",
              "      <th>1</th>\n",
              "      <td>ID_CLSFQB0S</td>\n",
              "      <td>0</td>\n",
              "      <td>ID_Q02</td>\n",
              "      <td>3</td>\n",
              "      <td>group 3</td>\n",
              "      <td>1</td>\n",
              "      <td>5</td>\n",
              "      <td>4</td>\n",
              "    </tr>\n",
              "    <tr>\n",
              "      <th>2</th>\n",
              "      <td>ID_RE6T58Y4</td>\n",
              "      <td>0</td>\n",
              "      <td>ID_Q02</td>\n",
              "      <td>0</td>\n",
              "      <td>group 3</td>\n",
              "      <td>2</td>\n",
              "      <td>12</td>\n",
              "      <td>3</td>\n",
              "    </tr>\n",
              "    <tr>\n",
              "      <th>3</th>\n",
              "      <td>ID_XJQQRJV3</td>\n",
              "      <td>0</td>\n",
              "      <td>ID_Z8BI</td>\n",
              "      <td>0</td>\n",
              "      <td>group 3</td>\n",
              "      <td>2</td>\n",
              "      <td>9</td>\n",
              "      <td>2</td>\n",
              "    </tr>\n",
              "    <tr>\n",
              "      <th>4</th>\n",
              "      <td>ID_1JHU6A8S</td>\n",
              "      <td>0</td>\n",
              "      <td>ID_Q02</td>\n",
              "      <td>3</td>\n",
              "      <td>group 3</td>\n",
              "      <td>2</td>\n",
              "      <td>10</td>\n",
              "      <td>1</td>\n",
              "    </tr>\n",
              "  </tbody>\n",
              "</table>\n",
              "</div>"
            ],
            "text/plain": [
              "        UserID  FeatureX  ... UserDate Month  UserDate Day_of_week\n",
              "0  ID_N5LTBAPU         0  ...              4                     4\n",
              "1  ID_CLSFQB0S         0  ...              5                     4\n",
              "2  ID_RE6T58Y4         0  ...             12                     3\n",
              "3  ID_XJQQRJV3         0  ...              9                     2\n",
              "4  ID_1JHU6A8S         0  ...             10                     1\n",
              "\n",
              "[5 rows x 8 columns]"
            ]
          },
          "metadata": {},
          "execution_count": 67
        }
      ]
    },
    {
      "cell_type": "code",
      "metadata": {
        "id": "5onpoghKAaio",
        "colab": {
          "base_uri": "https://localhost:8080/",
          "height": 203
        },
        "outputId": "93ded023-3375-4151-d634-857fb53d6424"
      },
      "source": [
        "#loading SampleSubmission\n",
        "SampleSubmission = pd.read_csv(\"https://raw.githubusercontent.com/RozieH/datasets/main/SampleSubmission.csv\")\n",
        "SampleSubmission.head() "
      ],
      "execution_count": null,
      "outputs": [
        {
          "output_type": "execute_result",
          "data": {
            "text/html": [
              "<div>\n",
              "<style scoped>\n",
              "    .dataframe tbody tr th:only-of-type {\n",
              "        vertical-align: middle;\n",
              "    }\n",
              "\n",
              "    .dataframe tbody tr th {\n",
              "        vertical-align: top;\n",
              "    }\n",
              "\n",
              "    .dataframe thead th {\n",
              "        text-align: right;\n",
              "    }\n",
              "</style>\n",
              "<table border=\"1\" class=\"dataframe\">\n",
              "  <thead>\n",
              "    <tr style=\"text-align: right;\">\n",
              "      <th></th>\n",
              "      <th>UserMonthYear</th>\n",
              "      <th>Target</th>\n",
              "    </tr>\n",
              "  </thead>\n",
              "  <tbody>\n",
              "    <tr>\n",
              "      <th>0</th>\n",
              "      <td>ID_000VV0KM_1_4</td>\n",
              "      <td>NaN</td>\n",
              "    </tr>\n",
              "    <tr>\n",
              "      <th>1</th>\n",
              "      <td>ID_000VV0KM_2_4</td>\n",
              "      <td>NaN</td>\n",
              "    </tr>\n",
              "    <tr>\n",
              "      <th>2</th>\n",
              "      <td>ID_000VV0KM_3_4</td>\n",
              "      <td>NaN</td>\n",
              "    </tr>\n",
              "    <tr>\n",
              "      <th>3</th>\n",
              "      <td>ID_003OCIYO_1_4</td>\n",
              "      <td>NaN</td>\n",
              "    </tr>\n",
              "    <tr>\n",
              "      <th>4</th>\n",
              "      <td>ID_003OCIYO_2_4</td>\n",
              "      <td>NaN</td>\n",
              "    </tr>\n",
              "  </tbody>\n",
              "</table>\n",
              "</div>"
            ],
            "text/plain": [
              "     UserMonthYear  Target\n",
              "0  ID_000VV0KM_1_4     NaN\n",
              "1  ID_000VV0KM_2_4     NaN\n",
              "2  ID_000VV0KM_3_4     NaN\n",
              "3  ID_003OCIYO_1_4     NaN\n",
              "4  ID_003OCIYO_2_4     NaN"
            ]
          },
          "metadata": {},
          "execution_count": 68
        }
      ]
    },
    {
      "cell_type": "code",
      "metadata": {
        "id": "G7etIFDKApWT",
        "colab": {
          "base_uri": "https://localhost:8080/",
          "height": 419
        },
        "outputId": "4e5b8f7b-8ba0-4c6c-a2c4-caad2fee0e84"
      },
      "source": [
        "#loading VariableDefinitions\n",
        "VariableDefinitions = pd.read_csv(\"https://raw.githubusercontent.com/RozieH/datasets/main/VariableDefinitions.csv\")\n",
        "#VariableDefinitions[(VariableDefinitions.VariableName=='FeatureA')]\n",
        "pd.DataFrame(VariableDefinitions)\n"
      ],
      "execution_count": null,
      "outputs": [
        {
          "output_type": "execute_result",
          "data": {
            "text/html": [
              "<div>\n",
              "<style scoped>\n",
              "    .dataframe tbody tr th:only-of-type {\n",
              "        vertical-align: middle;\n",
              "    }\n",
              "\n",
              "    .dataframe tbody tr th {\n",
              "        vertical-align: top;\n",
              "    }\n",
              "\n",
              "    .dataframe thead th {\n",
              "        text-align: right;\n",
              "    }\n",
              "</style>\n",
              "<table border=\"1\" class=\"dataframe\">\n",
              "  <thead>\n",
              "    <tr style=\"text-align: right;\">\n",
              "      <th></th>\n",
              "      <th>VariableName</th>\n",
              "      <th>VariableDefinition</th>\n",
              "    </tr>\n",
              "  </thead>\n",
              "  <tbody>\n",
              "    <tr>\n",
              "      <th>0</th>\n",
              "      <td>Train</td>\n",
              "      <td>NaN</td>\n",
              "    </tr>\n",
              "    <tr>\n",
              "      <th>1</th>\n",
              "      <td>UserID</td>\n",
              "      <td>This is the unique ID of the user who made the...</td>\n",
              "    </tr>\n",
              "    <tr>\n",
              "      <th>2</th>\n",
              "      <td>CompPart</td>\n",
              "      <td>Value 1 if Participated in any competition in ...</td>\n",
              "    </tr>\n",
              "    <tr>\n",
              "      <th>3</th>\n",
              "      <td>Comment</td>\n",
              "      <td>Value 1 if Participated in any comments in the...</td>\n",
              "    </tr>\n",
              "    <tr>\n",
              "      <th>4</th>\n",
              "      <td>Sub</td>\n",
              "      <td>Value 1 if Submitted to any competition in the...</td>\n",
              "    </tr>\n",
              "    <tr>\n",
              "      <th>...</th>\n",
              "      <td>...</td>\n",
              "      <td>...</td>\n",
              "    </tr>\n",
              "    <tr>\n",
              "      <th>67</th>\n",
              "      <td>UserDate Month</td>\n",
              "      <td>The month of the year the user signed up. Mont...</td>\n",
              "    </tr>\n",
              "    <tr>\n",
              "      <th>68</th>\n",
              "      <td>UserDate Day_of_week</td>\n",
              "      <td>The day of the week the user signed up on. Day...</td>\n",
              "    </tr>\n",
              "    <tr>\n",
              "      <th>69</th>\n",
              "      <td>NaN</td>\n",
              "      <td>NaN</td>\n",
              "    </tr>\n",
              "    <tr>\n",
              "      <th>70</th>\n",
              "      <td>NaN</td>\n",
              "      <td>NaN</td>\n",
              "    </tr>\n",
              "    <tr>\n",
              "      <th>71</th>\n",
              "      <td>The variables have been masked consistently ac...</td>\n",
              "      <td>NaN</td>\n",
              "    </tr>\n",
              "  </tbody>\n",
              "</table>\n",
              "<p>72 rows × 2 columns</p>\n",
              "</div>"
            ],
            "text/plain": [
              "                                         VariableName                                 VariableDefinition\n",
              "0                                               Train                                                NaN\n",
              "1                                              UserID  This is the unique ID of the user who made the...\n",
              "2                                            CompPart  Value 1 if Participated in any competition in ...\n",
              "3                                             Comment  Value 1 if Participated in any comments in the...\n",
              "4                                                 Sub  Value 1 if Submitted to any competition in the...\n",
              "..                                                ...                                                ...\n",
              "67                                     UserDate Month  The month of the year the user signed up. Mont...\n",
              "68                               UserDate Day_of_week  The day of the week the user signed up on. Day...\n",
              "69                                                NaN                                                NaN\n",
              "70                                                NaN                                                NaN\n",
              "71  The variables have been masked consistently ac...                                                NaN\n",
              "\n",
              "[72 rows x 2 columns]"
            ]
          },
          "metadata": {},
          "execution_count": 69
        }
      ]
    },
    {
      "cell_type": "markdown",
      "metadata": {
        "id": "8ppPzfHALVUy"
      },
      "source": [
        "# EDA - Exploratory data analysis"
      ]
    },
    {
      "cell_type": "code",
      "metadata": {
        "colab": {
          "base_uri": "https://localhost:8080/"
        },
        "id": "5QS_Kar5LsSY",
        "outputId": "bc814e04-adc1-43c5-8c18-82211ef4cfef"
      },
      "source": [
        "train.info()"
      ],
      "execution_count": null,
      "outputs": [
        {
          "output_type": "stream",
          "name": "stdout",
          "text": [
            "<class 'pandas.core.frame.DataFrame'>\n",
            "RangeIndex: 259832 entries, 0 to 259831\n",
            "Data columns (total 8 columns):\n",
            " #   Column    Non-Null Count   Dtype \n",
            "---  ------    --------------   ----- \n",
            " 0   User_ID   259832 non-null  object\n",
            " 1   month     259832 non-null  int64 \n",
            " 2   year      259832 non-null  int64 \n",
            " 3   CompPart  259832 non-null  int64 \n",
            " 4   Comment   259832 non-null  int64 \n",
            " 5   Sub       259832 non-null  int64 \n",
            " 6   Disc      259832 non-null  int64 \n",
            " 7   Target    259832 non-null  int64 \n",
            "dtypes: int64(7), object(1)\n",
            "memory usage: 15.9+ MB\n"
          ]
        }
      ]
    },
    {
      "cell_type": "code",
      "metadata": {
        "colab": {
          "base_uri": "https://localhost:8080/",
          "height": 297
        },
        "id": "2yaguUNVLyx6",
        "outputId": "6afa855b-ccbe-4a62-9456-0ed764cb5abc"
      },
      "source": [
        "train.describe()"
      ],
      "execution_count": null,
      "outputs": [
        {
          "output_type": "execute_result",
          "data": {
            "text/html": [
              "<div>\n",
              "<style scoped>\n",
              "    .dataframe tbody tr th:only-of-type {\n",
              "        vertical-align: middle;\n",
              "    }\n",
              "\n",
              "    .dataframe tbody tr th {\n",
              "        vertical-align: top;\n",
              "    }\n",
              "\n",
              "    .dataframe thead th {\n",
              "        text-align: right;\n",
              "    }\n",
              "</style>\n",
              "<table border=\"1\" class=\"dataframe\">\n",
              "  <thead>\n",
              "    <tr style=\"text-align: right;\">\n",
              "      <th></th>\n",
              "      <th>month</th>\n",
              "      <th>year</th>\n",
              "      <th>CompPart</th>\n",
              "      <th>Comment</th>\n",
              "      <th>Sub</th>\n",
              "      <th>Disc</th>\n",
              "      <th>Target</th>\n",
              "    </tr>\n",
              "  </thead>\n",
              "  <tbody>\n",
              "    <tr>\n",
              "      <th>count</th>\n",
              "      <td>259832.000000</td>\n",
              "      <td>259832.000000</td>\n",
              "      <td>259832.000000</td>\n",
              "      <td>259832.000000</td>\n",
              "      <td>259832.000000</td>\n",
              "      <td>259832.000000</td>\n",
              "      <td>259832.000000</td>\n",
              "    </tr>\n",
              "    <tr>\n",
              "      <th>mean</th>\n",
              "      <td>7.412116</td>\n",
              "      <td>2.690927</td>\n",
              "      <td>0.120867</td>\n",
              "      <td>0.014921</td>\n",
              "      <td>0.064676</td>\n",
              "      <td>0.014532</td>\n",
              "      <td>0.139729</td>\n",
              "    </tr>\n",
              "    <tr>\n",
              "      <th>std</th>\n",
              "      <td>3.355127</td>\n",
              "      <td>0.527094</td>\n",
              "      <td>0.325973</td>\n",
              "      <td>0.121238</td>\n",
              "      <td>0.245954</td>\n",
              "      <td>0.119672</td>\n",
              "      <td>0.346706</td>\n",
              "    </tr>\n",
              "    <tr>\n",
              "      <th>min</th>\n",
              "      <td>1.000000</td>\n",
              "      <td>1.000000</td>\n",
              "      <td>0.000000</td>\n",
              "      <td>0.000000</td>\n",
              "      <td>0.000000</td>\n",
              "      <td>0.000000</td>\n",
              "      <td>0.000000</td>\n",
              "    </tr>\n",
              "    <tr>\n",
              "      <th>25%</th>\n",
              "      <td>5.000000</td>\n",
              "      <td>2.000000</td>\n",
              "      <td>0.000000</td>\n",
              "      <td>0.000000</td>\n",
              "      <td>0.000000</td>\n",
              "      <td>0.000000</td>\n",
              "      <td>0.000000</td>\n",
              "    </tr>\n",
              "    <tr>\n",
              "      <th>50%</th>\n",
              "      <td>8.000000</td>\n",
              "      <td>3.000000</td>\n",
              "      <td>0.000000</td>\n",
              "      <td>0.000000</td>\n",
              "      <td>0.000000</td>\n",
              "      <td>0.000000</td>\n",
              "      <td>0.000000</td>\n",
              "    </tr>\n",
              "    <tr>\n",
              "      <th>75%</th>\n",
              "      <td>10.000000</td>\n",
              "      <td>3.000000</td>\n",
              "      <td>0.000000</td>\n",
              "      <td>0.000000</td>\n",
              "      <td>0.000000</td>\n",
              "      <td>0.000000</td>\n",
              "      <td>0.000000</td>\n",
              "    </tr>\n",
              "    <tr>\n",
              "      <th>max</th>\n",
              "      <td>12.000000</td>\n",
              "      <td>3.000000</td>\n",
              "      <td>1.000000</td>\n",
              "      <td>1.000000</td>\n",
              "      <td>1.000000</td>\n",
              "      <td>1.000000</td>\n",
              "      <td>1.000000</td>\n",
              "    </tr>\n",
              "  </tbody>\n",
              "</table>\n",
              "</div>"
            ],
            "text/plain": [
              "               month           year  ...           Disc         Target\n",
              "count  259832.000000  259832.000000  ...  259832.000000  259832.000000\n",
              "mean        7.412116       2.690927  ...       0.014532       0.139729\n",
              "std         3.355127       0.527094  ...       0.119672       0.346706\n",
              "min         1.000000       1.000000  ...       0.000000       0.000000\n",
              "25%         5.000000       2.000000  ...       0.000000       0.000000\n",
              "50%         8.000000       3.000000  ...       0.000000       0.000000\n",
              "75%        10.000000       3.000000  ...       0.000000       0.000000\n",
              "max        12.000000       3.000000  ...       1.000000       1.000000\n",
              "\n",
              "[8 rows x 7 columns]"
            ]
          },
          "metadata": {},
          "execution_count": 71
        }
      ]
    },
    {
      "cell_type": "code",
      "metadata": {
        "colab": {
          "base_uri": "https://localhost:8080/"
        },
        "id": "A6m0Q0SQ2UVG",
        "outputId": "24db61e1-86d3-4967-e3a0-a59577509f84"
      },
      "source": [
        "train.isna().sum()"
      ],
      "execution_count": null,
      "outputs": [
        {
          "output_type": "execute_result",
          "data": {
            "text/plain": [
              "User_ID     0\n",
              "month       0\n",
              "year        0\n",
              "CompPart    0\n",
              "Comment     0\n",
              "Sub         0\n",
              "Disc        0\n",
              "Target      0\n",
              "dtype: int64"
            ]
          },
          "metadata": {},
          "execution_count": 72
        }
      ]
    },
    {
      "cell_type": "code",
      "metadata": {
        "colab": {
          "base_uri": "https://localhost:8080/",
          "height": 203
        },
        "id": "vZjmolyB2wO2",
        "outputId": "f841d740-ab5c-4e3d-9a7b-5c1df7b9882a"
      },
      "source": [
        "train.tail()"
      ],
      "execution_count": null,
      "outputs": [
        {
          "output_type": "execute_result",
          "data": {
            "text/html": [
              "<div>\n",
              "<style scoped>\n",
              "    .dataframe tbody tr th:only-of-type {\n",
              "        vertical-align: middle;\n",
              "    }\n",
              "\n",
              "    .dataframe tbody tr th {\n",
              "        vertical-align: top;\n",
              "    }\n",
              "\n",
              "    .dataframe thead th {\n",
              "        text-align: right;\n",
              "    }\n",
              "</style>\n",
              "<table border=\"1\" class=\"dataframe\">\n",
              "  <thead>\n",
              "    <tr style=\"text-align: right;\">\n",
              "      <th></th>\n",
              "      <th>User_ID</th>\n",
              "      <th>month</th>\n",
              "      <th>year</th>\n",
              "      <th>CompPart</th>\n",
              "      <th>Comment</th>\n",
              "      <th>Sub</th>\n",
              "      <th>Disc</th>\n",
              "      <th>Target</th>\n",
              "    </tr>\n",
              "  </thead>\n",
              "  <tbody>\n",
              "    <tr>\n",
              "      <th>259827</th>\n",
              "      <td>ID_MAP5X6D4</td>\n",
              "      <td>12</td>\n",
              "      <td>3</td>\n",
              "      <td>0</td>\n",
              "      <td>0</td>\n",
              "      <td>0</td>\n",
              "      <td>0</td>\n",
              "      <td>0</td>\n",
              "    </tr>\n",
              "    <tr>\n",
              "      <th>259828</th>\n",
              "      <td>ID_QHUAHU76</td>\n",
              "      <td>12</td>\n",
              "      <td>3</td>\n",
              "      <td>0</td>\n",
              "      <td>0</td>\n",
              "      <td>0</td>\n",
              "      <td>0</td>\n",
              "      <td>0</td>\n",
              "    </tr>\n",
              "    <tr>\n",
              "      <th>259829</th>\n",
              "      <td>ID_8IKU22O5</td>\n",
              "      <td>12</td>\n",
              "      <td>3</td>\n",
              "      <td>1</td>\n",
              "      <td>0</td>\n",
              "      <td>0</td>\n",
              "      <td>0</td>\n",
              "      <td>1</td>\n",
              "    </tr>\n",
              "    <tr>\n",
              "      <th>259830</th>\n",
              "      <td>ID_NHWCR1IY</td>\n",
              "      <td>12</td>\n",
              "      <td>3</td>\n",
              "      <td>0</td>\n",
              "      <td>0</td>\n",
              "      <td>0</td>\n",
              "      <td>0</td>\n",
              "      <td>0</td>\n",
              "    </tr>\n",
              "    <tr>\n",
              "      <th>259831</th>\n",
              "      <td>ID_XMD7EIYV</td>\n",
              "      <td>12</td>\n",
              "      <td>3</td>\n",
              "      <td>1</td>\n",
              "      <td>0</td>\n",
              "      <td>0</td>\n",
              "      <td>1</td>\n",
              "      <td>1</td>\n",
              "    </tr>\n",
              "  </tbody>\n",
              "</table>\n",
              "</div>"
            ],
            "text/plain": [
              "            User_ID  month  year  CompPart  Comment  Sub  Disc  Target\n",
              "259827  ID_MAP5X6D4     12     3         0        0    0     0       0\n",
              "259828  ID_QHUAHU76     12     3         0        0    0     0       0\n",
              "259829  ID_8IKU22O5     12     3         1        0    0     0       1\n",
              "259830  ID_NHWCR1IY     12     3         0        0    0     0       0\n",
              "259831  ID_XMD7EIYV     12     3         1        0    0     1       1"
            ]
          },
          "metadata": {},
          "execution_count": 73
        }
      ]
    },
    {
      "cell_type": "code",
      "metadata": {
        "colab": {
          "base_uri": "https://localhost:8080/"
        },
        "id": "6X2JtM9yZ-8f",
        "outputId": "185745a1-b2ee-4fbf-e6bd-d6ca6a065b14"
      },
      "source": [
        "test.info()"
      ],
      "execution_count": null,
      "outputs": [
        {
          "output_type": "stream",
          "name": "stdout",
          "text": [
            "<class 'pandas.core.frame.DataFrame'>\n",
            "RangeIndex: 65223 entries, 0 to 65222\n",
            "Data columns (total 3 columns):\n",
            " #   Column   Non-Null Count  Dtype \n",
            "---  ------   --------------  ----- \n",
            " 0   User_ID  65223 non-null  object\n",
            " 1   month    65223 non-null  int64 \n",
            " 2   year     65223 non-null  int64 \n",
            "dtypes: int64(2), object(1)\n",
            "memory usage: 1.5+ MB\n"
          ]
        }
      ]
    },
    {
      "cell_type": "code",
      "metadata": {
        "colab": {
          "base_uri": "https://localhost:8080/"
        },
        "id": "o5UtGE7c3BLW",
        "outputId": "7bcd1104-195e-4b5a-97f7-52f19339a387"
      },
      "source": [
        "test.isna().sum()"
      ],
      "execution_count": null,
      "outputs": [
        {
          "output_type": "execute_result",
          "data": {
            "text/plain": [
              "User_ID    0\n",
              "month      0\n",
              "year       0\n",
              "dtype: int64"
            ]
          },
          "metadata": {},
          "execution_count": 75
        }
      ]
    },
    {
      "cell_type": "code",
      "metadata": {
        "colab": {
          "base_uri": "https://localhost:8080/",
          "height": 419
        },
        "id": "7-irI9EXW8bK",
        "outputId": "ef07cc03-c0ac-4669-e57f-705642849247"
      },
      "source": [
        "# Concatenating files\n",
        "train1=pd.merge(df3, df1, on='UserID')\n",
        "df=train1.rename(columns = {'UserID':'User_ID'}, inplace = False)\n",
        "df"
      ],
      "execution_count": null,
      "outputs": [
        {
          "output_type": "execute_result",
          "data": {
            "text/html": [
              "<div>\n",
              "<style scoped>\n",
              "    .dataframe tbody tr th:only-of-type {\n",
              "        vertical-align: middle;\n",
              "    }\n",
              "\n",
              "    .dataframe tbody tr th {\n",
              "        vertical-align: top;\n",
              "    }\n",
              "\n",
              "    .dataframe thead th {\n",
              "        text-align: right;\n",
              "    }\n",
              "</style>\n",
              "<table border=\"1\" class=\"dataframe\">\n",
              "  <thead>\n",
              "    <tr style=\"text-align: right;\">\n",
              "      <th></th>\n",
              "      <th>User_ID</th>\n",
              "      <th>UserDate Year</th>\n",
              "      <th>UserDate Month</th>\n",
              "      <th>PublicRank</th>\n",
              "      <th>Successful Submission Count</th>\n",
              "    </tr>\n",
              "  </thead>\n",
              "  <tbody>\n",
              "    <tr>\n",
              "      <th>0</th>\n",
              "      <td>ID_N5LTBAPU</td>\n",
              "      <td>2</td>\n",
              "      <td>4</td>\n",
              "      <td>rank 10</td>\n",
              "      <td>count 10</td>\n",
              "    </tr>\n",
              "    <tr>\n",
              "      <th>1</th>\n",
              "      <td>ID_CLSFQB0S</td>\n",
              "      <td>1</td>\n",
              "      <td>5</td>\n",
              "      <td>rank 1</td>\n",
              "      <td>count 9</td>\n",
              "    </tr>\n",
              "    <tr>\n",
              "      <th>2</th>\n",
              "      <td>ID_CLSFQB0S</td>\n",
              "      <td>1</td>\n",
              "      <td>5</td>\n",
              "      <td>NaN</td>\n",
              "      <td>NaN</td>\n",
              "    </tr>\n",
              "    <tr>\n",
              "      <th>3</th>\n",
              "      <td>ID_CLSFQB0S</td>\n",
              "      <td>1</td>\n",
              "      <td>5</td>\n",
              "      <td>rank 1</td>\n",
              "      <td>count 10</td>\n",
              "    </tr>\n",
              "    <tr>\n",
              "      <th>4</th>\n",
              "      <td>ID_RE6T58Y4</td>\n",
              "      <td>2</td>\n",
              "      <td>12</td>\n",
              "      <td>rank 11</td>\n",
              "      <td>count 8</td>\n",
              "    </tr>\n",
              "    <tr>\n",
              "      <th>...</th>\n",
              "      <td>...</td>\n",
              "      <td>...</td>\n",
              "      <td>...</td>\n",
              "      <td>...</td>\n",
              "      <td>...</td>\n",
              "    </tr>\n",
              "    <tr>\n",
              "      <th>48560</th>\n",
              "      <td>ID_B8VJJMWK</td>\n",
              "      <td>2</td>\n",
              "      <td>3</td>\n",
              "      <td>rank 4</td>\n",
              "      <td>count 10</td>\n",
              "    </tr>\n",
              "    <tr>\n",
              "      <th>48561</th>\n",
              "      <td>ID_XAQGPGAZ</td>\n",
              "      <td>2</td>\n",
              "      <td>3</td>\n",
              "      <td>rank 4</td>\n",
              "      <td>count 10</td>\n",
              "    </tr>\n",
              "    <tr>\n",
              "      <th>48562</th>\n",
              "      <td>ID_1AO7PVP2</td>\n",
              "      <td>2</td>\n",
              "      <td>5</td>\n",
              "      <td>rank 7</td>\n",
              "      <td>count 6</td>\n",
              "    </tr>\n",
              "    <tr>\n",
              "      <th>48563</th>\n",
              "      <td>ID_3ZXJIREU</td>\n",
              "      <td>1</td>\n",
              "      <td>7</td>\n",
              "      <td>NaN</td>\n",
              "      <td>NaN</td>\n",
              "    </tr>\n",
              "    <tr>\n",
              "      <th>48564</th>\n",
              "      <td>ID_3ZXJIREU</td>\n",
              "      <td>1</td>\n",
              "      <td>7</td>\n",
              "      <td>rank 10</td>\n",
              "      <td>count 10</td>\n",
              "    </tr>\n",
              "  </tbody>\n",
              "</table>\n",
              "<p>48565 rows × 5 columns</p>\n",
              "</div>"
            ],
            "text/plain": [
              "           User_ID  UserDate Year  ...  PublicRank Successful Submission Count\n",
              "0      ID_N5LTBAPU              2  ...     rank 10                    count 10\n",
              "1      ID_CLSFQB0S              1  ...      rank 1                     count 9\n",
              "2      ID_CLSFQB0S              1  ...         NaN                         NaN\n",
              "3      ID_CLSFQB0S              1  ...      rank 1                    count 10\n",
              "4      ID_RE6T58Y4              2  ...     rank 11                     count 8\n",
              "...            ...            ...  ...         ...                         ...\n",
              "48560  ID_B8VJJMWK              2  ...      rank 4                    count 10\n",
              "48561  ID_XAQGPGAZ              2  ...      rank 4                    count 10\n",
              "48562  ID_1AO7PVP2              2  ...      rank 7                     count 6\n",
              "48563  ID_3ZXJIREU              1  ...         NaN                         NaN\n",
              "48564  ID_3ZXJIREU              1  ...     rank 10                    count 10\n",
              "\n",
              "[48565 rows x 5 columns]"
            ]
          },
          "metadata": {},
          "execution_count": 76
        }
      ]
    },
    {
      "cell_type": "code",
      "metadata": {
        "colab": {
          "base_uri": "https://localhost:8080/",
          "height": 436
        },
        "id": "hpUVTNg0DqfN",
        "outputId": "dbf1775a-3f8e-4cb6-bd77-01aebb1b5d2f"
      },
      "source": [
        "#merge final data\n",
        "final_df=pd.merge(df, train, on='User_ID')\n",
        "final_df"
      ],
      "execution_count": null,
      "outputs": [
        {
          "output_type": "execute_result",
          "data": {
            "text/html": [
              "<div>\n",
              "<style scoped>\n",
              "    .dataframe tbody tr th:only-of-type {\n",
              "        vertical-align: middle;\n",
              "    }\n",
              "\n",
              "    .dataframe tbody tr th {\n",
              "        vertical-align: top;\n",
              "    }\n",
              "\n",
              "    .dataframe thead th {\n",
              "        text-align: right;\n",
              "    }\n",
              "</style>\n",
              "<table border=\"1\" class=\"dataframe\">\n",
              "  <thead>\n",
              "    <tr style=\"text-align: right;\">\n",
              "      <th></th>\n",
              "      <th>User_ID</th>\n",
              "      <th>UserDate Year</th>\n",
              "      <th>UserDate Month</th>\n",
              "      <th>PublicRank</th>\n",
              "      <th>Successful Submission Count</th>\n",
              "      <th>month</th>\n",
              "      <th>year</th>\n",
              "      <th>CompPart</th>\n",
              "      <th>Comment</th>\n",
              "      <th>Sub</th>\n",
              "      <th>Disc</th>\n",
              "      <th>Target</th>\n",
              "    </tr>\n",
              "  </thead>\n",
              "  <tbody>\n",
              "    <tr>\n",
              "      <th>0</th>\n",
              "      <td>ID_N5LTBAPU</td>\n",
              "      <td>2</td>\n",
              "      <td>4</td>\n",
              "      <td>rank 10</td>\n",
              "      <td>count 10</td>\n",
              "      <td>8</td>\n",
              "      <td>3</td>\n",
              "      <td>0</td>\n",
              "      <td>0</td>\n",
              "      <td>0</td>\n",
              "      <td>0</td>\n",
              "      <td>0</td>\n",
              "    </tr>\n",
              "    <tr>\n",
              "      <th>1</th>\n",
              "      <td>ID_N5LTBAPU</td>\n",
              "      <td>2</td>\n",
              "      <td>4</td>\n",
              "      <td>rank 10</td>\n",
              "      <td>count 10</td>\n",
              "      <td>8</td>\n",
              "      <td>2</td>\n",
              "      <td>0</td>\n",
              "      <td>0</td>\n",
              "      <td>0</td>\n",
              "      <td>0</td>\n",
              "      <td>0</td>\n",
              "    </tr>\n",
              "    <tr>\n",
              "      <th>2</th>\n",
              "      <td>ID_N5LTBAPU</td>\n",
              "      <td>2</td>\n",
              "      <td>4</td>\n",
              "      <td>rank 10</td>\n",
              "      <td>count 10</td>\n",
              "      <td>9</td>\n",
              "      <td>2</td>\n",
              "      <td>0</td>\n",
              "      <td>0</td>\n",
              "      <td>0</td>\n",
              "      <td>0</td>\n",
              "      <td>0</td>\n",
              "    </tr>\n",
              "    <tr>\n",
              "      <th>3</th>\n",
              "      <td>ID_N5LTBAPU</td>\n",
              "      <td>2</td>\n",
              "      <td>4</td>\n",
              "      <td>rank 10</td>\n",
              "      <td>count 10</td>\n",
              "      <td>9</td>\n",
              "      <td>3</td>\n",
              "      <td>0</td>\n",
              "      <td>0</td>\n",
              "      <td>0</td>\n",
              "      <td>0</td>\n",
              "      <td>0</td>\n",
              "    </tr>\n",
              "    <tr>\n",
              "      <th>4</th>\n",
              "      <td>ID_N5LTBAPU</td>\n",
              "      <td>2</td>\n",
              "      <td>4</td>\n",
              "      <td>rank 10</td>\n",
              "      <td>count 10</td>\n",
              "      <td>10</td>\n",
              "      <td>2</td>\n",
              "      <td>0</td>\n",
              "      <td>0</td>\n",
              "      <td>0</td>\n",
              "      <td>0</td>\n",
              "      <td>0</td>\n",
              "    </tr>\n",
              "    <tr>\n",
              "      <th>...</th>\n",
              "      <td>...</td>\n",
              "      <td>...</td>\n",
              "      <td>...</td>\n",
              "      <td>...</td>\n",
              "      <td>...</td>\n",
              "      <td>...</td>\n",
              "      <td>...</td>\n",
              "      <td>...</td>\n",
              "      <td>...</td>\n",
              "      <td>...</td>\n",
              "      <td>...</td>\n",
              "      <td>...</td>\n",
              "    </tr>\n",
              "    <tr>\n",
              "      <th>832917</th>\n",
              "      <td>ID_3ZXJIREU</td>\n",
              "      <td>1</td>\n",
              "      <td>7</td>\n",
              "      <td>rank 10</td>\n",
              "      <td>count 10</td>\n",
              "      <td>6</td>\n",
              "      <td>3</td>\n",
              "      <td>0</td>\n",
              "      <td>0</td>\n",
              "      <td>0</td>\n",
              "      <td>0</td>\n",
              "      <td>0</td>\n",
              "    </tr>\n",
              "    <tr>\n",
              "      <th>832918</th>\n",
              "      <td>ID_3ZXJIREU</td>\n",
              "      <td>1</td>\n",
              "      <td>7</td>\n",
              "      <td>rank 10</td>\n",
              "      <td>count 10</td>\n",
              "      <td>6</td>\n",
              "      <td>2</td>\n",
              "      <td>0</td>\n",
              "      <td>0</td>\n",
              "      <td>0</td>\n",
              "      <td>0</td>\n",
              "      <td>0</td>\n",
              "    </tr>\n",
              "    <tr>\n",
              "      <th>832919</th>\n",
              "      <td>ID_3ZXJIREU</td>\n",
              "      <td>1</td>\n",
              "      <td>7</td>\n",
              "      <td>rank 10</td>\n",
              "      <td>count 10</td>\n",
              "      <td>7</td>\n",
              "      <td>1</td>\n",
              "      <td>1</td>\n",
              "      <td>0</td>\n",
              "      <td>1</td>\n",
              "      <td>0</td>\n",
              "      <td>1</td>\n",
              "    </tr>\n",
              "    <tr>\n",
              "      <th>832920</th>\n",
              "      <td>ID_3ZXJIREU</td>\n",
              "      <td>1</td>\n",
              "      <td>7</td>\n",
              "      <td>rank 10</td>\n",
              "      <td>count 10</td>\n",
              "      <td>7</td>\n",
              "      <td>2</td>\n",
              "      <td>0</td>\n",
              "      <td>0</td>\n",
              "      <td>0</td>\n",
              "      <td>0</td>\n",
              "      <td>0</td>\n",
              "    </tr>\n",
              "    <tr>\n",
              "      <th>832921</th>\n",
              "      <td>ID_3ZXJIREU</td>\n",
              "      <td>1</td>\n",
              "      <td>7</td>\n",
              "      <td>rank 10</td>\n",
              "      <td>count 10</td>\n",
              "      <td>7</td>\n",
              "      <td>3</td>\n",
              "      <td>0</td>\n",
              "      <td>0</td>\n",
              "      <td>0</td>\n",
              "      <td>0</td>\n",
              "      <td>0</td>\n",
              "    </tr>\n",
              "  </tbody>\n",
              "</table>\n",
              "<p>832922 rows × 12 columns</p>\n",
              "</div>"
            ],
            "text/plain": [
              "            User_ID  UserDate Year  UserDate Month  ... Sub Disc  Target\n",
              "0       ID_N5LTBAPU              2               4  ...   0    0       0\n",
              "1       ID_N5LTBAPU              2               4  ...   0    0       0\n",
              "2       ID_N5LTBAPU              2               4  ...   0    0       0\n",
              "3       ID_N5LTBAPU              2               4  ...   0    0       0\n",
              "4       ID_N5LTBAPU              2               4  ...   0    0       0\n",
              "...             ...            ...             ...  ...  ..  ...     ...\n",
              "832917  ID_3ZXJIREU              1               7  ...   0    0       0\n",
              "832918  ID_3ZXJIREU              1               7  ...   0    0       0\n",
              "832919  ID_3ZXJIREU              1               7  ...   1    0       1\n",
              "832920  ID_3ZXJIREU              1               7  ...   0    0       0\n",
              "832921  ID_3ZXJIREU              1               7  ...   0    0       0\n",
              "\n",
              "[832922 rows x 12 columns]"
            ]
          },
          "metadata": {},
          "execution_count": 77
        }
      ]
    },
    {
      "cell_type": "code",
      "metadata": {
        "colab": {
          "base_uri": "https://localhost:8080/"
        },
        "id": "Vsa0cdq3DpL-",
        "outputId": "8385072d-0bcf-4147-90db-ab61907cb2ef"
      },
      "source": [
        "final_df.isna().sum()"
      ],
      "execution_count": null,
      "outputs": [
        {
          "output_type": "execute_result",
          "data": {
            "text/plain": [
              "User_ID                             0\n",
              "UserDate Year                       0\n",
              "UserDate Month                      0\n",
              "PublicRank                     573522\n",
              "Successful Submission Count    537318\n",
              "month                               0\n",
              "year                                0\n",
              "CompPart                            0\n",
              "Comment                             0\n",
              "Sub                                 0\n",
              "Disc                                0\n",
              "Target                              0\n",
              "dtype: int64"
            ]
          },
          "metadata": {},
          "execution_count": 78
        }
      ]
    },
    {
      "cell_type": "code",
      "metadata": {
        "id": "hz_KLJtyIC3O"
      },
      "source": [
        "train=final_df.dropna()"
      ],
      "execution_count": null,
      "outputs": []
    },
    {
      "cell_type": "code",
      "metadata": {
        "colab": {
          "base_uri": "https://localhost:8080/"
        },
        "id": "DlXB3143IPdC",
        "outputId": "d5538ea3-7719-483b-f785-a6beb03e1f82"
      },
      "source": [
        "train.isna().sum()"
      ],
      "execution_count": null,
      "outputs": [
        {
          "output_type": "execute_result",
          "data": {
            "text/plain": [
              "User_ID                        0\n",
              "UserDate Year                  0\n",
              "UserDate Month                 0\n",
              "PublicRank                     0\n",
              "Successful Submission Count    0\n",
              "month                          0\n",
              "year                           0\n",
              "CompPart                       0\n",
              "Comment                        0\n",
              "Sub                            0\n",
              "Disc                           0\n",
              "Target                         0\n",
              "dtype: int64"
            ]
          },
          "metadata": {},
          "execution_count": 80
        }
      ]
    },
    {
      "cell_type": "code",
      "metadata": {
        "colab": {
          "base_uri": "https://localhost:8080/"
        },
        "id": "lzq3i3_4IfY7",
        "outputId": "d6983154-0fb8-43e7-ac77-d348bfae2f44"
      },
      "source": [
        "train.info()"
      ],
      "execution_count": null,
      "outputs": [
        {
          "output_type": "stream",
          "name": "stdout",
          "text": [
            "<class 'pandas.core.frame.DataFrame'>\n",
            "Int64Index: 259400 entries, 0 to 832921\n",
            "Data columns (total 12 columns):\n",
            " #   Column                       Non-Null Count   Dtype \n",
            "---  ------                       --------------   ----- \n",
            " 0   User_ID                      259400 non-null  object\n",
            " 1   UserDate Year                259400 non-null  int64 \n",
            " 2   UserDate Month               259400 non-null  int64 \n",
            " 3   PublicRank                   259400 non-null  object\n",
            " 4   Successful Submission Count  259400 non-null  object\n",
            " 5   month                        259400 non-null  int64 \n",
            " 6   year                         259400 non-null  int64 \n",
            " 7   CompPart                     259400 non-null  int64 \n",
            " 8   Comment                      259400 non-null  int64 \n",
            " 9   Sub                          259400 non-null  int64 \n",
            " 10  Disc                         259400 non-null  int64 \n",
            " 11  Target                       259400 non-null  int64 \n",
            "dtypes: int64(9), object(3)\n",
            "memory usage: 25.7+ MB\n"
          ]
        }
      ]
    },
    {
      "cell_type": "code",
      "metadata": {
        "id": "ZTWODHsoIujU"
      },
      "source": [
        "train=train.drop(['User_ID'],axis=1)\n",
        "# train.to_csv('sample.csv')\n",
        "# from google.colab import files\n",
        "# files.download('sample.csv') "
      ],
      "execution_count": null,
      "outputs": []
    },
    {
      "cell_type": "code",
      "metadata": {
        "colab": {
          "base_uri": "https://localhost:8080/"
        },
        "id": "O2C-oQ1jTYlT",
        "outputId": "61f2645f-66f1-478d-b8b2-cbbbf8261e86"
      },
      "source": [
        "train['PublicRank'].unique()"
      ],
      "execution_count": null,
      "outputs": [
        {
          "output_type": "execute_result",
          "data": {
            "text/plain": [
              "array(['rank 10', 'rank 1', 'rank 11', 'rank 7', 'rank 2', 'rank 8',\n",
              "       'rank 3', 'rank 4', 'rank 5', 'rank 9', 'rank 6'], dtype=object)"
            ]
          },
          "metadata": {},
          "execution_count": 83
        }
      ]
    },
    {
      "cell_type": "code",
      "metadata": {
        "id": "zf2opgUNTqIT"
      },
      "source": [
        "train['PublicRank'] = train['PublicRank'].replace(['rank 10', 'rank 1', 'rank 11', 'rank 7', 'rank 2', 'rank 8',\n",
        "       'rank 3', 'rank 4', 'rank 5', 'rank 9', 'rank 6'],[10,1,11,7,2,8,3,4,5,9,6])"
      ],
      "execution_count": null,
      "outputs": []
    },
    {
      "cell_type": "code",
      "metadata": {
        "colab": {
          "base_uri": "https://localhost:8080/"
        },
        "id": "FrKmJ4otQbQ7",
        "outputId": "f4b466bf-9ddc-479c-ac89-b1178f88d3cd"
      },
      "source": [
        "train['Successful Submission Count'].unique()"
      ],
      "execution_count": null,
      "outputs": [
        {
          "output_type": "execute_result",
          "data": {
            "text/plain": [
              "array(['count 10', 'count 9', 'count 8', 'count 5', 'count 6', 'count 3',\n",
              "       'count 7', 'count 4'], dtype=object)"
            ]
          },
          "metadata": {},
          "execution_count": 85
        }
      ]
    },
    {
      "cell_type": "code",
      "metadata": {
        "colab": {
          "base_uri": "https://localhost:8080/",
          "height": 203
        },
        "id": "eWJEsZwNQwU9",
        "outputId": "5ebc18a0-cfc8-43e7-dd1a-5c9419e35b4e"
      },
      "source": [
        "train['Successful Submission Count'] = train['Successful Submission Count'].replace(['count 10', 'count 9', 'count 8', 'count 5', 'count 6', 'count 3',\n",
        "       'count 7', 'count 4'], [10,9,8,5,6,3,7,4])\n",
        "train.head()   "
      ],
      "execution_count": null,
      "outputs": [
        {
          "output_type": "execute_result",
          "data": {
            "text/html": [
              "<div>\n",
              "<style scoped>\n",
              "    .dataframe tbody tr th:only-of-type {\n",
              "        vertical-align: middle;\n",
              "    }\n",
              "\n",
              "    .dataframe tbody tr th {\n",
              "        vertical-align: top;\n",
              "    }\n",
              "\n",
              "    .dataframe thead th {\n",
              "        text-align: right;\n",
              "    }\n",
              "</style>\n",
              "<table border=\"1\" class=\"dataframe\">\n",
              "  <thead>\n",
              "    <tr style=\"text-align: right;\">\n",
              "      <th></th>\n",
              "      <th>UserDate Year</th>\n",
              "      <th>UserDate Month</th>\n",
              "      <th>PublicRank</th>\n",
              "      <th>Successful Submission Count</th>\n",
              "      <th>month</th>\n",
              "      <th>year</th>\n",
              "      <th>CompPart</th>\n",
              "      <th>Comment</th>\n",
              "      <th>Sub</th>\n",
              "      <th>Disc</th>\n",
              "      <th>Target</th>\n",
              "    </tr>\n",
              "  </thead>\n",
              "  <tbody>\n",
              "    <tr>\n",
              "      <th>0</th>\n",
              "      <td>2</td>\n",
              "      <td>4</td>\n",
              "      <td>10</td>\n",
              "      <td>10</td>\n",
              "      <td>8</td>\n",
              "      <td>3</td>\n",
              "      <td>0</td>\n",
              "      <td>0</td>\n",
              "      <td>0</td>\n",
              "      <td>0</td>\n",
              "      <td>0</td>\n",
              "    </tr>\n",
              "    <tr>\n",
              "      <th>1</th>\n",
              "      <td>2</td>\n",
              "      <td>4</td>\n",
              "      <td>10</td>\n",
              "      <td>10</td>\n",
              "      <td>8</td>\n",
              "      <td>2</td>\n",
              "      <td>0</td>\n",
              "      <td>0</td>\n",
              "      <td>0</td>\n",
              "      <td>0</td>\n",
              "      <td>0</td>\n",
              "    </tr>\n",
              "    <tr>\n",
              "      <th>2</th>\n",
              "      <td>2</td>\n",
              "      <td>4</td>\n",
              "      <td>10</td>\n",
              "      <td>10</td>\n",
              "      <td>9</td>\n",
              "      <td>2</td>\n",
              "      <td>0</td>\n",
              "      <td>0</td>\n",
              "      <td>0</td>\n",
              "      <td>0</td>\n",
              "      <td>0</td>\n",
              "    </tr>\n",
              "    <tr>\n",
              "      <th>3</th>\n",
              "      <td>2</td>\n",
              "      <td>4</td>\n",
              "      <td>10</td>\n",
              "      <td>10</td>\n",
              "      <td>9</td>\n",
              "      <td>3</td>\n",
              "      <td>0</td>\n",
              "      <td>0</td>\n",
              "      <td>0</td>\n",
              "      <td>0</td>\n",
              "      <td>0</td>\n",
              "    </tr>\n",
              "    <tr>\n",
              "      <th>4</th>\n",
              "      <td>2</td>\n",
              "      <td>4</td>\n",
              "      <td>10</td>\n",
              "      <td>10</td>\n",
              "      <td>10</td>\n",
              "      <td>2</td>\n",
              "      <td>0</td>\n",
              "      <td>0</td>\n",
              "      <td>0</td>\n",
              "      <td>0</td>\n",
              "      <td>0</td>\n",
              "    </tr>\n",
              "  </tbody>\n",
              "</table>\n",
              "</div>"
            ],
            "text/plain": [
              "   UserDate Year  UserDate Month  PublicRank  ...  Sub  Disc  Target\n",
              "0              2               4          10  ...    0     0       0\n",
              "1              2               4          10  ...    0     0       0\n",
              "2              2               4          10  ...    0     0       0\n",
              "3              2               4          10  ...    0     0       0\n",
              "4              2               4          10  ...    0     0       0\n",
              "\n",
              "[5 rows x 11 columns]"
            ]
          },
          "metadata": {},
          "execution_count": 86
        }
      ]
    },
    {
      "cell_type": "code",
      "metadata": {
        "colab": {
          "base_uri": "https://localhost:8080/"
        },
        "id": "ViBJxSrVjvW3",
        "outputId": "02ae23b8-c720-4084-e288-dc59b065c2e3"
      },
      "source": [
        "train['CompPart'].unique()"
      ],
      "execution_count": null,
      "outputs": [
        {
          "output_type": "execute_result",
          "data": {
            "text/plain": [
              "array([0, 1])"
            ]
          },
          "metadata": {},
          "execution_count": 87
        }
      ]
    },
    {
      "cell_type": "code",
      "metadata": {
        "colab": {
          "base_uri": "https://localhost:8080/"
        },
        "id": "l3fX4QBFj0v6",
        "outputId": "2f748e96-bb5b-4958-d431-bffeb1df17be"
      },
      "source": [
        "train['Comment'].unique()"
      ],
      "execution_count": null,
      "outputs": [
        {
          "output_type": "execute_result",
          "data": {
            "text/plain": [
              "array([0, 1])"
            ]
          },
          "metadata": {},
          "execution_count": 88
        }
      ]
    },
    {
      "cell_type": "code",
      "metadata": {
        "colab": {
          "base_uri": "https://localhost:8080/"
        },
        "id": "6GHAyv-pj6WT",
        "outputId": "b343f240-7117-4999-b435-7065b27e25f7"
      },
      "source": [
        "train['Sub'].unique()"
      ],
      "execution_count": null,
      "outputs": [
        {
          "output_type": "execute_result",
          "data": {
            "text/plain": [
              "array([0, 1])"
            ]
          },
          "metadata": {},
          "execution_count": 89
        }
      ]
    },
    {
      "cell_type": "code",
      "metadata": {
        "colab": {
          "base_uri": "https://localhost:8080/"
        },
        "id": "KO89Gm67kApc",
        "outputId": "ecff570f-0ff9-4060-d162-17e1abf0cb4c"
      },
      "source": [
        "train['Disc'].unique()"
      ],
      "execution_count": null,
      "outputs": [
        {
          "output_type": "execute_result",
          "data": {
            "text/plain": [
              "array([0, 1])"
            ]
          },
          "metadata": {},
          "execution_count": 90
        }
      ]
    },
    {
      "cell_type": "code",
      "metadata": {
        "id": "c1YKjKkAjPPS"
      },
      "source": [
        "# # One hot encoding of categorical variables\n",
        "# one_hot_CompPart = pd.get_dummies(train['CompPart'], prefix='CompPart')\n",
        "\n",
        "\n",
        "# train = pd.concat([train, one_hot_CompPart], axis=1)\n",
        "\n",
        "# train.drop(['CompPart'], axis=1, inplace=True)\n",
        "\n",
        "\n",
        "# train.head(2)"
      ],
      "execution_count": null,
      "outputs": []
    },
    {
      "cell_type": "code",
      "metadata": {
        "id": "wzwPw077ku4w"
      },
      "source": [
        "# # One hot encoding comment\n",
        "# one_hot_Comment = pd.get_dummies(train['Comment'], prefix='Comment')\n",
        "\n",
        "\n",
        "# train = pd.concat([train, one_hot_Comment], axis=1)\n",
        "\n",
        "# train.drop(['Comment'], axis=1, inplace=True)\n",
        "\n",
        "\n",
        "# train.head(2)"
      ],
      "execution_count": null,
      "outputs": []
    },
    {
      "cell_type": "code",
      "metadata": {
        "id": "xX28Q-7ElLVx"
      },
      "source": [
        "# # One hot encoding submission\n",
        "# one_hot_Sub = pd.get_dummies(train['Sub'], prefix='Sub')\n",
        "\n",
        "\n",
        "# train = pd.concat([train, one_hot_Sub], axis=1)\n",
        "\n",
        "# train.drop(['Sub'], axis=1, inplace=True)\n",
        "\n",
        "\n",
        "# train.head(2)"
      ],
      "execution_count": null,
      "outputs": []
    },
    {
      "cell_type": "code",
      "metadata": {
        "id": "OjzkJA39lgeW"
      },
      "source": [
        "# # One hot encoding discussion\n",
        "# one_hot_Disc = pd.get_dummies(train['Disc'], prefix='Disc')\n",
        "\n",
        "\n",
        "# train = pd.concat([train, one_hot_Disc], axis=1)\n",
        "\n",
        "# train.drop(['Disc'], axis=1, inplace=True)\n",
        "\n",
        "\n",
        "# train.head(2)"
      ],
      "execution_count": null,
      "outputs": []
    },
    {
      "cell_type": "code",
      "metadata": {
        "id": "up2KuexaoGeE"
      },
      "source": [
        "# Scaling\n",
        "# Step 1: define a MinMax scalar that will transform the data values into values in (0, 1)\n",
        "# Hint: Look up the documentation for MinMaxScaler\n",
        "# COMPLETE\n",
        "scaler = MinMaxScaler()\n",
        "\n",
        "# Step 2: fit the MinMaxScaler using our data \n",
        "# Hint: use .fit()\n",
        "# COMPLETE\n",
        "scaler.fit(train)\n",
        "X_values = train.values\n",
        "# Step 3: scale the values in our dataset, X_values \n",
        "# Hint: use .transform()\n",
        "# COMPLETE\n",
        "X_values_scaled = scaler.transform(X_values)\n",
        "train = pd.DataFrame(X_values_scaled, columns=train.columns)"
      ],
      "execution_count": null,
      "outputs": []
    },
    {
      "cell_type": "markdown",
      "metadata": {
        "id": "2DzBkVg-Lnx_"
      },
      "source": [
        "# Building Model"
      ]
    },
    {
      "cell_type": "code",
      "metadata": {
        "id": "vfu9U3luLqut"
      },
      "source": [
        "#split train data into target and independent variables\n",
        "X = train.drop(['Target'],axis=1)\n",
        "y = train.Target"
      ],
      "execution_count": null,
      "outputs": []
    },
    {
      "cell_type": "code",
      "metadata": {
        "id": "tNzV4XvKMjUp"
      },
      "source": [
        "# split train data into train and validate\n",
        "X_train, X_test, y_train, y_test = train_test_split(\n",
        "    X, y, test_size=0.2, random_state=42\n",
        "    )"
      ],
      "execution_count": null,
      "outputs": []
    },
    {
      "cell_type": "code",
      "metadata": {
        "colab": {
          "base_uri": "https://localhost:8080/",
          "height": 203
        },
        "id": "nF7ZdtDvl-2p",
        "outputId": "42f498e9-046e-4804-bd3e-5544eb0f8cfc"
      },
      "source": [
        "X_test.head()"
      ],
      "execution_count": null,
      "outputs": [
        {
          "output_type": "execute_result",
          "data": {
            "text/html": [
              "<div>\n",
              "<style scoped>\n",
              "    .dataframe tbody tr th:only-of-type {\n",
              "        vertical-align: middle;\n",
              "    }\n",
              "\n",
              "    .dataframe tbody tr th {\n",
              "        vertical-align: top;\n",
              "    }\n",
              "\n",
              "    .dataframe thead th {\n",
              "        text-align: right;\n",
              "    }\n",
              "</style>\n",
              "<table border=\"1\" class=\"dataframe\">\n",
              "  <thead>\n",
              "    <tr style=\"text-align: right;\">\n",
              "      <th></th>\n",
              "      <th>UserDate Year</th>\n",
              "      <th>UserDate Month</th>\n",
              "      <th>PublicRank</th>\n",
              "      <th>Successful Submission Count</th>\n",
              "      <th>month</th>\n",
              "      <th>year</th>\n",
              "      <th>CompPart</th>\n",
              "      <th>Comment</th>\n",
              "      <th>Sub</th>\n",
              "      <th>Disc</th>\n",
              "    </tr>\n",
              "  </thead>\n",
              "  <tbody>\n",
              "    <tr>\n",
              "      <th>146618</th>\n",
              "      <td>0.0</td>\n",
              "      <td>1.000000</td>\n",
              "      <td>0.4</td>\n",
              "      <td>1.000000</td>\n",
              "      <td>1.000000</td>\n",
              "      <td>1.0</td>\n",
              "      <td>0.0</td>\n",
              "      <td>0.0</td>\n",
              "      <td>0.0</td>\n",
              "      <td>0.0</td>\n",
              "    </tr>\n",
              "    <tr>\n",
              "      <th>68428</th>\n",
              "      <td>0.0</td>\n",
              "      <td>0.363636</td>\n",
              "      <td>1.0</td>\n",
              "      <td>1.000000</td>\n",
              "      <td>0.454545</td>\n",
              "      <td>0.0</td>\n",
              "      <td>1.0</td>\n",
              "      <td>0.0</td>\n",
              "      <td>1.0</td>\n",
              "      <td>0.0</td>\n",
              "    </tr>\n",
              "    <tr>\n",
              "      <th>191871</th>\n",
              "      <td>1.0</td>\n",
              "      <td>0.000000</td>\n",
              "      <td>0.9</td>\n",
              "      <td>1.000000</td>\n",
              "      <td>0.909091</td>\n",
              "      <td>1.0</td>\n",
              "      <td>1.0</td>\n",
              "      <td>0.0</td>\n",
              "      <td>0.0</td>\n",
              "      <td>0.0</td>\n",
              "    </tr>\n",
              "    <tr>\n",
              "      <th>110622</th>\n",
              "      <td>0.5</td>\n",
              "      <td>0.181818</td>\n",
              "      <td>0.9</td>\n",
              "      <td>0.428571</td>\n",
              "      <td>1.000000</td>\n",
              "      <td>1.0</td>\n",
              "      <td>1.0</td>\n",
              "      <td>1.0</td>\n",
              "      <td>1.0</td>\n",
              "      <td>0.0</td>\n",
              "    </tr>\n",
              "    <tr>\n",
              "      <th>253033</th>\n",
              "      <td>1.0</td>\n",
              "      <td>0.181818</td>\n",
              "      <td>0.0</td>\n",
              "      <td>0.571429</td>\n",
              "      <td>1.000000</td>\n",
              "      <td>1.0</td>\n",
              "      <td>0.0</td>\n",
              "      <td>0.0</td>\n",
              "      <td>0.0</td>\n",
              "      <td>0.0</td>\n",
              "    </tr>\n",
              "  </tbody>\n",
              "</table>\n",
              "</div>"
            ],
            "text/plain": [
              "        UserDate Year  UserDate Month  PublicRank  ...  Comment  Sub  Disc\n",
              "146618            0.0        1.000000         0.4  ...      0.0  0.0   0.0\n",
              "68428             0.0        0.363636         1.0  ...      0.0  1.0   0.0\n",
              "191871            1.0        0.000000         0.9  ...      0.0  0.0   0.0\n",
              "110622            0.5        0.181818         0.9  ...      1.0  1.0   0.0\n",
              "253033            1.0        0.181818         0.0  ...      0.0  0.0   0.0\n",
              "\n",
              "[5 rows x 10 columns]"
            ]
          },
          "metadata": {},
          "execution_count": 98
        }
      ]
    },
    {
      "cell_type": "code",
      "metadata": {
        "colab": {
          "base_uri": "https://localhost:8080/"
        },
        "id": "E5uqqwU5NZVk",
        "outputId": "67311b6c-9516-436e-f3b8-6604a7669970"
      },
      "source": [
        "#Train classifier\n",
        "from sklearn.ensemble import RandomForestClassifier\n",
        "classifier = RandomForestClassifier(n_estimators=1000, max_depth=100)\n",
        "classifier.fit(X_train, y_train) "
      ],
      "execution_count": null,
      "outputs": [
        {
          "output_type": "execute_result",
          "data": {
            "text/plain": [
              "RandomForestClassifier(bootstrap=True, ccp_alpha=0.0, class_weight=None,\n",
              "                       criterion='gini', max_depth=100, max_features='auto',\n",
              "                       max_leaf_nodes=None, max_samples=None,\n",
              "                       min_impurity_decrease=0.0, min_impurity_split=None,\n",
              "                       min_samples_leaf=1, min_samples_split=2,\n",
              "                       min_weight_fraction_leaf=0.0, n_estimators=1000,\n",
              "                       n_jobs=None, oob_score=False, random_state=None,\n",
              "                       verbose=0, warm_start=False)"
            ]
          },
          "metadata": {},
          "execution_count": 99
        }
      ]
    },
    {
      "cell_type": "code",
      "metadata": {
        "id": "swj6h4fP4w5V"
      },
      "source": [
        "y_train_pred = classifier.predict(X_train)"
      ],
      "execution_count": null,
      "outputs": []
    },
    {
      "cell_type": "code",
      "metadata": {
        "id": "zvfXPbp15nfo"
      },
      "source": [
        "# Measuring classifier performance on train\n",
        "rf_preds = roc_auc_score(y_train_pred, classifier.predict_proba(X_train)[:, 1])"
      ],
      "execution_count": null,
      "outputs": []
    },
    {
      "cell_type": "code",
      "metadata": {
        "colab": {
          "base_uri": "https://localhost:8080/"
        },
        "id": "UAp2JrqGnKYd",
        "outputId": "edea6844-b551-4f97-ee5f-aa8cf3646c76"
      },
      "source": [
        "rf_preds"
      ],
      "execution_count": null,
      "outputs": [
        {
          "output_type": "execute_result",
          "data": {
            "text/plain": [
              "1.0"
            ]
          },
          "metadata": {},
          "execution_count": 102
        }
      ]
    },
    {
      "cell_type": "code",
      "metadata": {
        "id": "s91WpMVzQvdi"
      },
      "source": [
        "# measure classifier performance\n",
        "# roc_auc_score(y_test, classifier.predict_proba(X_test)[:, 1])"
      ],
      "execution_count": null,
      "outputs": []
    },
    {
      "cell_type": "code",
      "metadata": {
        "id": "GHyYMV4m7YYf"
      },
      "source": [
        "# Logistic regression\n",
        "# lr = LogisticRegression(solver=\"liblinear\", random_state=0).fit(X_train, y_train)\n",
        "# roc_auc_score(y_test, lr.predict_proba(X_test)[:, 1])"
      ],
      "execution_count": null,
      "outputs": []
    },
    {
      "cell_type": "code",
      "metadata": {
        "id": "q9VtmlT48VP3"
      },
      "source": [
        "# y_train_pred = lr.predict(X_train)"
      ],
      "execution_count": null,
      "outputs": []
    },
    {
      "cell_type": "code",
      "metadata": {
        "id": "3WJ9XN3C8c6a"
      },
      "source": [
        "# roc_auc_score(y_train_pred, lr.predict_proba(X_train)[:, 1])"
      ],
      "execution_count": null,
      "outputs": []
    },
    {
      "cell_type": "code",
      "metadata": {
        "id": "s4kMuGvkRNzl",
        "colab": {
          "base_uri": "https://localhost:8080/"
        },
        "outputId": "2514c4d5-8d37-4749-d3c1-34b048980b6f"
      },
      "source": [
        "# make prediction on the test set\",\n",
        "test_preds = classifier.predict_proba(X_test)[:, 1]\n",
        "test_preds"
      ],
      "execution_count": null,
      "outputs": [
        {
          "output_type": "execute_result",
          "data": {
            "text/plain": [
              "array([0., 1., 1., ..., 0., 0., 1.])"
            ]
          },
          "metadata": {},
          "execution_count": 107
        }
      ]
    },
    {
      "cell_type": "code",
      "metadata": {
        "id": "Jndp1FigSJ8J"
      },
      "source": [
        "# create submission dataframe\n",
        "UserMonthYear = SampleSubmission['UserMonthYear']\n",
        "Submission = pd.concat([pd.DataFrame(UserMonthYear), pd.DataFrame(test_preds)], axis=1)"
      ],
      "execution_count": null,
      "outputs": []
    },
    {
      "cell_type": "code",
      "metadata": {
        "colab": {
          "base_uri": "https://localhost:8080/"
        },
        "id": "2bNY5IAxUpWl",
        "outputId": "71707306-38e9-4275-9ec5-d0ff967948f6"
      },
      "source": [
        "# show sample of the submission data,\n",
        "Submission.head()"
      ],
      "execution_count": null,
      "outputs": [
        {
          "output_type": "execute_result",
          "data": {
            "text/html": [
              "<div>\n",
              "<style scoped>\n",
              "    .dataframe tbody tr th:only-of-type {\n",
              "        vertical-align: middle;\n",
              "    }\n",
              "\n",
              "    .dataframe tbody tr th {\n",
              "        vertical-align: top;\n",
              "    }\n",
              "\n",
              "    .dataframe thead th {\n",
              "        text-align: right;\n",
              "    }\n",
              "</style>\n",
              "<table border=\"1\" class=\"dataframe\">\n",
              "  <thead>\n",
              "    <tr style=\"text-align: right;\">\n",
              "      <th></th>\n",
              "      <th>UserMonthYear</th>\n",
              "      <th>0</th>\n",
              "    </tr>\n",
              "  </thead>\n",
              "  <tbody>\n",
              "    <tr>\n",
              "      <th>0</th>\n",
              "      <td>ID_000VV0KM_1_4</td>\n",
              "      <td>0.0</td>\n",
              "    </tr>\n",
              "    <tr>\n",
              "      <th>1</th>\n",
              "      <td>ID_000VV0KM_2_4</td>\n",
              "      <td>1.0</td>\n",
              "    </tr>\n",
              "    <tr>\n",
              "      <th>2</th>\n",
              "      <td>ID_000VV0KM_3_4</td>\n",
              "      <td>1.0</td>\n",
              "    </tr>\n",
              "    <tr>\n",
              "      <th>3</th>\n",
              "      <td>ID_003OCIYO_1_4</td>\n",
              "      <td>1.0</td>\n",
              "    </tr>\n",
              "    <tr>\n",
              "      <th>4</th>\n",
              "      <td>ID_003OCIYO_2_4</td>\n",
              "      <td>0.0</td>\n",
              "    </tr>\n",
              "  </tbody>\n",
              "</table>\n",
              "</div>"
            ],
            "text/plain": [
              "     UserMonthYear    0\n",
              "0  ID_000VV0KM_1_4  0.0\n",
              "1  ID_000VV0KM_2_4  1.0\n",
              "2  ID_000VV0KM_3_4  1.0\n",
              "3  ID_003OCIYO_1_4  1.0\n",
              "4  ID_003OCIYO_2_4  0.0"
            ]
          },
          "metadata": {},
          "execution_count": 109
        }
      ]
    },
    {
      "cell_type": "code",
      "metadata": {
        "id": "KTpuubC_Uybm"
      },
      "source": [
        "# save submission into csv file\\n\",\n",
        "Submission.to_csv('zindi_sub.csv',index=False)"
      ],
      "execution_count": null,
      "outputs": []
    },
    {
      "cell_type": "code",
      "metadata": {
        "colab": {
          "base_uri": "https://localhost:8080/",
          "height": 17
        },
        "id": "Y3jCvlKGVBvX",
        "outputId": "05460de9-c144-4923-fd2b-cfe833aa3f4f"
      },
      "source": [
        "from google.colab import files\n",
        "files.download('zindi_sub.csv') "
      ],
      "execution_count": null,
      "outputs": [
        {
          "output_type": "display_data",
          "data": {
            "application/javascript": [
              "\n",
              "    async function download(id, filename, size) {\n",
              "      if (!google.colab.kernel.accessAllowed) {\n",
              "        return;\n",
              "      }\n",
              "      const div = document.createElement('div');\n",
              "      const label = document.createElement('label');\n",
              "      label.textContent = `Downloading \"${filename}\": `;\n",
              "      div.appendChild(label);\n",
              "      const progress = document.createElement('progress');\n",
              "      progress.max = size;\n",
              "      div.appendChild(progress);\n",
              "      document.body.appendChild(div);\n",
              "\n",
              "      const buffers = [];\n",
              "      let downloaded = 0;\n",
              "\n",
              "      const channel = await google.colab.kernel.comms.open(id);\n",
              "      // Send a message to notify the kernel that we're ready.\n",
              "      channel.send({})\n",
              "\n",
              "      for await (const message of channel.messages) {\n",
              "        // Send a message to notify the kernel that we're ready.\n",
              "        channel.send({})\n",
              "        if (message.buffers) {\n",
              "          for (const buffer of message.buffers) {\n",
              "            buffers.push(buffer);\n",
              "            downloaded += buffer.byteLength;\n",
              "            progress.value = downloaded;\n",
              "          }\n",
              "        }\n",
              "      }\n",
              "      const blob = new Blob(buffers, {type: 'application/binary'});\n",
              "      const a = document.createElement('a');\n",
              "      a.href = window.URL.createObjectURL(blob);\n",
              "      a.download = filename;\n",
              "      div.appendChild(a);\n",
              "      a.click();\n",
              "      div.remove();\n",
              "    }\n",
              "  "
            ],
            "text/plain": [
              "<IPython.core.display.Javascript object>"
            ]
          },
          "metadata": {}
        },
        {
          "output_type": "display_data",
          "data": {
            "application/javascript": [
              "download(\"download_6559c809-7ca3-41fe-af62-4a371afca1d3\", \"zindi_sub.csv\", 1270466)"
            ],
            "text/plain": [
              "<IPython.core.display.Javascript object>"
            ]
          },
          "metadata": {}
        }
      ]
    },
    {
      "cell_type": "code",
      "metadata": {
        "id": "TYXPOPZNrz5l"
      },
      "source": [
        ""
      ],
      "execution_count": null,
      "outputs": []
    }
  ]
}